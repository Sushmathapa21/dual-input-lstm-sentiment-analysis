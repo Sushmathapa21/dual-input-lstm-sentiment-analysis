{
 "cells": [
  {
   "cell_type": "code",
   "execution_count": 1,
   "id": "464c097a",
   "metadata": {},
   "outputs": [
    {
     "name": "stdout",
     "output_type": "stream",
     "text": [
      "Collecting tensorflow\n",
      "  Downloading tensorflow-2.19.0-cp310-cp310-macosx_12_0_arm64.whl.metadata (4.0 kB)\n",
      "Collecting absl-py>=1.0.0 (from tensorflow)\n",
      "  Downloading absl_py-2.2.1-py3-none-any.whl.metadata (2.4 kB)\n",
      "Collecting astunparse>=1.6.0 (from tensorflow)\n",
      "  Downloading astunparse-1.6.3-py2.py3-none-any.whl.metadata (4.4 kB)\n",
      "Collecting flatbuffers>=24.3.25 (from tensorflow)\n",
      "  Downloading flatbuffers-25.2.10-py2.py3-none-any.whl.metadata (875 bytes)\n",
      "Collecting gast!=0.5.0,!=0.5.1,!=0.5.2,>=0.2.1 (from tensorflow)\n",
      "  Downloading gast-0.6.0-py3-none-any.whl.metadata (1.3 kB)\n",
      "Collecting google-pasta>=0.1.1 (from tensorflow)\n",
      "  Downloading google_pasta-0.2.0-py3-none-any.whl.metadata (814 bytes)\n",
      "Collecting libclang>=13.0.0 (from tensorflow)\n",
      "  Downloading libclang-18.1.1-1-py2.py3-none-macosx_11_0_arm64.whl.metadata (5.2 kB)\n",
      "Collecting opt-einsum>=2.3.2 (from tensorflow)\n",
      "  Downloading opt_einsum-3.4.0-py3-none-any.whl.metadata (6.3 kB)\n",
      "Requirement already satisfied: packaging in ./venv/lib/python3.10/site-packages (from tensorflow) (24.2)\n",
      "Collecting protobuf!=4.21.0,!=4.21.1,!=4.21.2,!=4.21.3,!=4.21.4,!=4.21.5,<6.0.0dev,>=3.20.3 (from tensorflow)\n",
      "  Downloading protobuf-5.29.4-cp38-abi3-macosx_10_9_universal2.whl.metadata (592 bytes)\n",
      "Collecting requests<3,>=2.21.0 (from tensorflow)\n",
      "  Downloading requests-2.32.3-py3-none-any.whl.metadata (4.6 kB)\n",
      "Requirement already satisfied: setuptools in ./venv/lib/python3.10/site-packages (from tensorflow) (75.6.0)\n",
      "Requirement already satisfied: six>=1.12.0 in ./venv/lib/python3.10/site-packages (from tensorflow) (1.17.0)\n",
      "Collecting termcolor>=1.1.0 (from tensorflow)\n",
      "  Downloading termcolor-3.0.1-py3-none-any.whl.metadata (6.1 kB)\n",
      "Requirement already satisfied: typing-extensions>=3.6.6 in ./venv/lib/python3.10/site-packages (from tensorflow) (4.13.0)\n",
      "Collecting wrapt>=1.11.0 (from tensorflow)\n",
      "  Downloading wrapt-1.17.2-cp310-cp310-macosx_11_0_arm64.whl.metadata (6.4 kB)\n",
      "Collecting grpcio<2.0,>=1.24.3 (from tensorflow)\n",
      "  Downloading grpcio-1.71.0-cp310-cp310-macosx_12_0_universal2.whl.metadata (3.8 kB)\n",
      "Collecting tensorboard~=2.19.0 (from tensorflow)\n",
      "  Downloading tensorboard-2.19.0-py3-none-any.whl.metadata (1.8 kB)\n",
      "Collecting keras>=3.5.0 (from tensorflow)\n",
      "  Downloading keras-3.9.2-py3-none-any.whl.metadata (6.1 kB)\n",
      "Collecting numpy<2.2.0,>=1.26.0 (from tensorflow)\n",
      "  Downloading numpy-2.1.3-cp310-cp310-macosx_14_0_arm64.whl.metadata (62 kB)\n",
      "Collecting h5py>=3.11.0 (from tensorflow)\n",
      "  Downloading h5py-3.13.0-cp310-cp310-macosx_11_0_arm64.whl.metadata (2.5 kB)\n",
      "Collecting ml-dtypes<1.0.0,>=0.5.1 (from tensorflow)\n",
      "  Downloading ml_dtypes-0.5.1-cp310-cp310-macosx_10_9_universal2.whl.metadata (21 kB)\n",
      "Collecting tensorflow-io-gcs-filesystem>=0.23.1 (from tensorflow)\n",
      "  Downloading tensorflow_io_gcs_filesystem-0.37.1-cp310-cp310-macosx_12_0_arm64.whl.metadata (14 kB)\n",
      "Collecting wheel<1.0,>=0.23.0 (from astunparse>=1.6.0->tensorflow)\n",
      "  Using cached wheel-0.45.1-py3-none-any.whl.metadata (2.3 kB)\n",
      "Collecting rich (from keras>=3.5.0->tensorflow)\n",
      "  Downloading rich-14.0.0-py3-none-any.whl.metadata (18 kB)\n",
      "Collecting namex (from keras>=3.5.0->tensorflow)\n",
      "  Downloading namex-0.0.8-py3-none-any.whl.metadata (246 bytes)\n",
      "Collecting optree (from keras>=3.5.0->tensorflow)\n",
      "  Downloading optree-0.14.1-cp310-cp310-macosx_11_0_arm64.whl.metadata (49 kB)\n",
      "Collecting charset-normalizer<4,>=2 (from requests<3,>=2.21.0->tensorflow)\n",
      "  Downloading charset_normalizer-3.4.1-cp310-cp310-macosx_10_9_universal2.whl.metadata (35 kB)\n",
      "Collecting idna<4,>=2.5 (from requests<3,>=2.21.0->tensorflow)\n",
      "  Downloading idna-3.10-py3-none-any.whl.metadata (10 kB)\n",
      "Collecting urllib3<3,>=1.21.1 (from requests<3,>=2.21.0->tensorflow)\n",
      "  Downloading urllib3-2.3.0-py3-none-any.whl.metadata (6.5 kB)\n",
      "Collecting certifi>=2017.4.17 (from requests<3,>=2.21.0->tensorflow)\n",
      "  Using cached certifi-2025.1.31-py3-none-any.whl.metadata (2.5 kB)\n",
      "Collecting markdown>=2.6.8 (from tensorboard~=2.19.0->tensorflow)\n",
      "  Downloading Markdown-3.7-py3-none-any.whl.metadata (7.0 kB)\n",
      "Collecting tensorboard-data-server<0.8.0,>=0.7.0 (from tensorboard~=2.19.0->tensorflow)\n",
      "  Downloading tensorboard_data_server-0.7.2-py3-none-any.whl.metadata (1.1 kB)\n",
      "Collecting werkzeug>=1.0.1 (from tensorboard~=2.19.0->tensorflow)\n",
      "  Downloading werkzeug-3.1.3-py3-none-any.whl.metadata (3.7 kB)\n",
      "Collecting MarkupSafe>=2.1.1 (from werkzeug>=1.0.1->tensorboard~=2.19.0->tensorflow)\n",
      "  Downloading MarkupSafe-3.0.2-cp310-cp310-macosx_11_0_arm64.whl.metadata (4.0 kB)\n",
      "Collecting markdown-it-py>=2.2.0 (from rich->keras>=3.5.0->tensorflow)\n",
      "  Downloading markdown_it_py-3.0.0-py3-none-any.whl.metadata (6.9 kB)\n",
      "Requirement already satisfied: pygments<3.0.0,>=2.13.0 in ./venv/lib/python3.10/site-packages (from rich->keras>=3.5.0->tensorflow) (2.19.1)\n",
      "Collecting mdurl~=0.1 (from markdown-it-py>=2.2.0->rich->keras>=3.5.0->tensorflow)\n",
      "  Downloading mdurl-0.1.2-py3-none-any.whl.metadata (1.6 kB)\n",
      "Downloading tensorflow-2.19.0-cp310-cp310-macosx_12_0_arm64.whl (252.5 MB)\n",
      "\u001b[2K   \u001b[90m━━━━━━━━━━━━━━━━━━━━━━━━━━━━━━━━━━━━━━━━\u001b[0m \u001b[32m252.5/252.5 MB\u001b[0m \u001b[31m8.4 MB/s\u001b[0m eta \u001b[36m0:00:00\u001b[0m00:01\u001b[0m00:02\u001b[0m\n",
      "\u001b[?25hDownloading absl_py-2.2.1-py3-none-any.whl (277 kB)\n",
      "Downloading astunparse-1.6.3-py2.py3-none-any.whl (12 kB)\n",
      "Downloading flatbuffers-25.2.10-py2.py3-none-any.whl (30 kB)\n",
      "Downloading gast-0.6.0-py3-none-any.whl (21 kB)\n",
      "Downloading google_pasta-0.2.0-py3-none-any.whl (57 kB)\n",
      "Downloading grpcio-1.71.0-cp310-cp310-macosx_12_0_universal2.whl (11.3 MB)\n",
      "\u001b[2K   \u001b[90m━━━━━━━━━━━━━━━━━━━━━━━━━━━━━━━━━━━━━━━━\u001b[0m \u001b[32m11.3/11.3 MB\u001b[0m \u001b[31m18.1 MB/s\u001b[0m eta \u001b[36m0:00:00\u001b[0m00:01\u001b[0m0:01\u001b[0m\n",
      "\u001b[?25hDownloading h5py-3.13.0-cp310-cp310-macosx_11_0_arm64.whl (2.9 MB)\n",
      "\u001b[2K   \u001b[90m━━━━━━━━━━━━━━━━━━━━━━━━━━━━━━━━━━━━━━━━\u001b[0m \u001b[32m2.9/2.9 MB\u001b[0m \u001b[31m18.2 MB/s\u001b[0m eta \u001b[36m0:00:00\u001b[0m\n",
      "\u001b[?25hDownloading keras-3.9.2-py3-none-any.whl (1.3 MB)\n",
      "\u001b[2K   \u001b[90m━━━━━━━━━━━━━━━━━━━━━━━━━━━━━━━━━━━━━━━━\u001b[0m \u001b[32m1.3/1.3 MB\u001b[0m \u001b[31m17.9 MB/s\u001b[0m eta \u001b[36m0:00:00\u001b[0m\n",
      "\u001b[?25hDownloading libclang-18.1.1-1-py2.py3-none-macosx_11_0_arm64.whl (25.8 MB)\n",
      "\u001b[2K   \u001b[90m━━━━━━━━━━━━━━━━━━━━━━━━━━━━━━━━━━━━━━━━\u001b[0m \u001b[32m25.8/25.8 MB\u001b[0m \u001b[31m19.3 MB/s\u001b[0m eta \u001b[36m0:00:00\u001b[0ma \u001b[36m0:00:01\u001b[0m\n",
      "\u001b[?25hDownloading ml_dtypes-0.5.1-cp310-cp310-macosx_10_9_universal2.whl (671 kB)\n",
      "\u001b[2K   \u001b[90m━━━━━━━━━━━━━━━━━━━━━━━━━━━━━━━━━━━━━━━━\u001b[0m \u001b[32m671.5/671.5 kB\u001b[0m \u001b[31m38.2 MB/s\u001b[0m eta \u001b[36m0:00:00\u001b[0m\n",
      "\u001b[?25hDownloading numpy-2.1.3-cp310-cp310-macosx_14_0_arm64.whl (5.4 MB)\n",
      "\u001b[2K   \u001b[90m━━━━━━━━━━━━━━━━━━━━━━━━━━━━━━━━━━━━━━━━\u001b[0m \u001b[32m5.4/5.4 MB\u001b[0m \u001b[31m3.6 MB/s\u001b[0m eta \u001b[36m0:00:00\u001b[0ma \u001b[36m0:00:01\u001b[0mm\n",
      "\u001b[?25hDownloading opt_einsum-3.4.0-py3-none-any.whl (71 kB)\n",
      "Downloading protobuf-5.29.4-cp38-abi3-macosx_10_9_universal2.whl (417 kB)\n",
      "Downloading requests-2.32.3-py3-none-any.whl (64 kB)\n",
      "Downloading tensorboard-2.19.0-py3-none-any.whl (5.5 MB)\n",
      "\u001b[2K   \u001b[90m━━━━━━━━━━━━━━━━━━━━━━━━━━━━━━━━━━━━━━━━\u001b[0m \u001b[32m5.5/5.5 MB\u001b[0m \u001b[31m3.3 MB/s\u001b[0m eta \u001b[36m0:00:00\u001b[0ma \u001b[36m0:00:01\u001b[0m\n",
      "\u001b[?25hDownloading tensorflow_io_gcs_filesystem-0.37.1-cp310-cp310-macosx_12_0_arm64.whl (3.5 MB)\n",
      "\u001b[2K   \u001b[90m━━━━━━━━━━━━━━━━━━━━━━━━━━━━━━━━━━━━━━━━\u001b[0m \u001b[32m3.5/3.5 MB\u001b[0m \u001b[31m3.4 MB/s\u001b[0m eta \u001b[36m0:00:00\u001b[0ma \u001b[36m0:00:01\u001b[0m\n",
      "\u001b[?25hDownloading termcolor-3.0.1-py3-none-any.whl (7.2 kB)\n",
      "Downloading wrapt-1.17.2-cp310-cp310-macosx_11_0_arm64.whl (38 kB)\n",
      "Using cached certifi-2025.1.31-py3-none-any.whl (166 kB)\n",
      "Downloading charset_normalizer-3.4.1-cp310-cp310-macosx_10_9_universal2.whl (198 kB)\n",
      "Downloading idna-3.10-py3-none-any.whl (70 kB)\n",
      "Downloading Markdown-3.7-py3-none-any.whl (106 kB)\n",
      "Downloading tensorboard_data_server-0.7.2-py3-none-any.whl (2.4 kB)\n",
      "Downloading urllib3-2.3.0-py3-none-any.whl (128 kB)\n",
      "Downloading werkzeug-3.1.3-py3-none-any.whl (224 kB)\n",
      "Using cached wheel-0.45.1-py3-none-any.whl (72 kB)\n",
      "Downloading namex-0.0.8-py3-none-any.whl (5.8 kB)\n",
      "Downloading optree-0.14.1-cp310-cp310-macosx_11_0_arm64.whl (327 kB)\n",
      "Downloading rich-14.0.0-py3-none-any.whl (243 kB)\n",
      "Downloading markdown_it_py-3.0.0-py3-none-any.whl (87 kB)\n",
      "Downloading MarkupSafe-3.0.2-cp310-cp310-macosx_11_0_arm64.whl (12 kB)\n",
      "Downloading mdurl-0.1.2-py3-none-any.whl (10.0 kB)\n",
      "Installing collected packages: namex, libclang, flatbuffers, wrapt, wheel, urllib3, termcolor, tensorflow-io-gcs-filesystem, tensorboard-data-server, protobuf, optree, opt-einsum, numpy, mdurl, MarkupSafe, markdown, idna, grpcio, google-pasta, gast, charset-normalizer, certifi, absl-py, werkzeug, requests, ml-dtypes, markdown-it-py, h5py, astunparse, tensorboard, rich, keras, tensorflow\n",
      "Successfully installed MarkupSafe-3.0.2 absl-py-2.2.1 astunparse-1.6.3 certifi-2025.1.31 charset-normalizer-3.4.1 flatbuffers-25.2.10 gast-0.6.0 google-pasta-0.2.0 grpcio-1.71.0 h5py-3.13.0 idna-3.10 keras-3.9.2 libclang-18.1.1 markdown-3.7 markdown-it-py-3.0.0 mdurl-0.1.2 ml-dtypes-0.5.1 namex-0.0.8 numpy-2.1.3 opt-einsum-3.4.0 optree-0.14.1 protobuf-5.29.4 requests-2.32.3 rich-14.0.0 tensorboard-2.19.0 tensorboard-data-server-0.7.2 tensorflow-2.19.0 tensorflow-io-gcs-filesystem-0.37.1 termcolor-3.0.1 urllib3-2.3.0 werkzeug-3.1.3 wheel-0.45.1 wrapt-1.17.2\n",
      "\n",
      "\u001b[1m[\u001b[0m\u001b[34;49mnotice\u001b[0m\u001b[1;39;49m]\u001b[0m\u001b[39;49m A new release of pip is available: \u001b[0m\u001b[31;49m24.3.1\u001b[0m\u001b[39;49m -> \u001b[0m\u001b[32;49m25.0.1\u001b[0m\n",
      "\u001b[1m[\u001b[0m\u001b[34;49mnotice\u001b[0m\u001b[1;39;49m]\u001b[0m\u001b[39;49m To update, run: \u001b[0m\u001b[32;49mpip install --upgrade pip\u001b[0m\n"
     ]
    }
   ],
   "source": [
    "!pip3 install tensorflow"
   ]
  },
  {
   "cell_type": "code",
   "execution_count": 3,
   "id": "e73432e7",
   "metadata": {},
   "outputs": [
    {
     "name": "stdout",
     "output_type": "stream",
     "text": [
      "Requirement already satisfied: numpy in ./venv/lib/python3.10/site-packages (2.1.3)\n",
      "Collecting pandas\n",
      "  Downloading pandas-2.2.3-cp310-cp310-macosx_11_0_arm64.whl.metadata (89 kB)\n",
      "Collecting matplotlib\n",
      "  Downloading matplotlib-3.10.1-cp310-cp310-macosx_11_0_arm64.whl.metadata (11 kB)\n",
      "Collecting seaborn\n",
      "  Using cached seaborn-0.13.2-py3-none-any.whl.metadata (5.4 kB)\n",
      "Collecting scikit-learn\n",
      "  Downloading scikit_learn-1.6.1-cp310-cp310-macosx_12_0_arm64.whl.metadata (31 kB)\n",
      "Collecting nltk\n",
      "  Using cached nltk-3.9.1-py3-none-any.whl.metadata (2.9 kB)\n",
      "Requirement already satisfied: python-dateutil>=2.8.2 in ./venv/lib/python3.10/site-packages (from pandas) (2.9.0.post0)\n",
      "Collecting pytz>=2020.1 (from pandas)\n",
      "  Downloading pytz-2025.2-py2.py3-none-any.whl.metadata (22 kB)\n",
      "Collecting tzdata>=2022.7 (from pandas)\n",
      "  Downloading tzdata-2025.2-py2.py3-none-any.whl.metadata (1.4 kB)\n",
      "Collecting contourpy>=1.0.1 (from matplotlib)\n",
      "  Downloading contourpy-1.3.1-cp310-cp310-macosx_11_0_arm64.whl.metadata (5.4 kB)\n",
      "Collecting cycler>=0.10 (from matplotlib)\n",
      "  Using cached cycler-0.12.1-py3-none-any.whl.metadata (3.8 kB)\n",
      "Collecting fonttools>=4.22.0 (from matplotlib)\n",
      "  Downloading fonttools-4.56.0-cp310-cp310-macosx_10_9_universal2.whl.metadata (101 kB)\n",
      "Collecting kiwisolver>=1.3.1 (from matplotlib)\n",
      "  Downloading kiwisolver-1.4.8-cp310-cp310-macosx_11_0_arm64.whl.metadata (6.2 kB)\n",
      "Requirement already satisfied: packaging>=20.0 in ./venv/lib/python3.10/site-packages (from matplotlib) (24.2)\n",
      "Collecting pillow>=8 (from matplotlib)\n",
      "  Downloading pillow-11.1.0-cp310-cp310-macosx_11_0_arm64.whl.metadata (9.1 kB)\n",
      "Collecting pyparsing>=2.3.1 (from matplotlib)\n",
      "  Using cached pyparsing-3.2.3-py3-none-any.whl.metadata (5.0 kB)\n",
      "Collecting scipy>=1.6.0 (from scikit-learn)\n",
      "  Downloading scipy-1.15.2-cp310-cp310-macosx_14_0_arm64.whl.metadata (61 kB)\n",
      "Collecting joblib>=1.2.0 (from scikit-learn)\n",
      "  Using cached joblib-1.4.2-py3-none-any.whl.metadata (5.4 kB)\n",
      "Collecting threadpoolctl>=3.1.0 (from scikit-learn)\n",
      "  Using cached threadpoolctl-3.6.0-py3-none-any.whl.metadata (13 kB)\n",
      "Collecting click (from nltk)\n",
      "  Using cached click-8.1.8-py3-none-any.whl.metadata (2.3 kB)\n",
      "Collecting regex>=2021.8.3 (from nltk)\n",
      "  Downloading regex-2024.11.6-cp310-cp310-macosx_11_0_arm64.whl.metadata (40 kB)\n",
      "Collecting tqdm (from nltk)\n",
      "  Using cached tqdm-4.67.1-py3-none-any.whl.metadata (57 kB)\n",
      "Requirement already satisfied: six>=1.5 in ./venv/lib/python3.10/site-packages (from python-dateutil>=2.8.2->pandas) (1.17.0)\n",
      "Downloading pandas-2.2.3-cp310-cp310-macosx_11_0_arm64.whl (11.3 MB)\n",
      "\u001b[2K   \u001b[90m━━━━━━━━━━━━━━━━━━━━━━━━━━━━━━━━━━━━━━━━\u001b[0m \u001b[32m11.3/11.3 MB\u001b[0m \u001b[31m17.7 MB/s\u001b[0m eta \u001b[36m0:00:00\u001b[0m \u001b[36m0:00:01\u001b[0m\n",
      "\u001b[?25hDownloading matplotlib-3.10.1-cp310-cp310-macosx_11_0_arm64.whl (8.0 MB)\n",
      "\u001b[2K   \u001b[90m━━━━━━━━━━━━━━━━━━━━━━━━━━━━━━━━━━━━━━━━\u001b[0m \u001b[32m8.0/8.0 MB\u001b[0m \u001b[31m19.2 MB/s\u001b[0m eta \u001b[36m0:00:00\u001b[0m00:01\u001b[0m00:01\u001b[0m\n",
      "\u001b[?25hUsing cached seaborn-0.13.2-py3-none-any.whl (294 kB)\n",
      "Downloading scikit_learn-1.6.1-cp310-cp310-macosx_12_0_arm64.whl (11.1 MB)\n",
      "\u001b[2K   \u001b[90m━━━━━━━━━━━━━━━━━━━━━━━━━━━━━━━━━━━━━━━━\u001b[0m \u001b[32m11.1/11.1 MB\u001b[0m \u001b[31m19.3 MB/s\u001b[0m eta \u001b[36m0:00:00\u001b[0m \u001b[36m0:00:01\u001b[0m\n",
      "\u001b[?25hUsing cached nltk-3.9.1-py3-none-any.whl (1.5 MB)\n",
      "Downloading contourpy-1.3.1-cp310-cp310-macosx_11_0_arm64.whl (253 kB)\n",
      "Using cached cycler-0.12.1-py3-none-any.whl (8.3 kB)\n",
      "Downloading fonttools-4.56.0-cp310-cp310-macosx_10_9_universal2.whl (2.8 MB)\n",
      "\u001b[2K   \u001b[90m━━━━━━━━━━━━━━━━━━━━━━━━━━━━━━━━━━━━━━━━\u001b[0m \u001b[32m2.8/2.8 MB\u001b[0m \u001b[31m11.3 MB/s\u001b[0m eta \u001b[36m0:00:00\u001b[0ma \u001b[36m0:00:01\u001b[0m\n",
      "\u001b[?25hUsing cached joblib-1.4.2-py3-none-any.whl (301 kB)\n",
      "Downloading kiwisolver-1.4.8-cp310-cp310-macosx_11_0_arm64.whl (65 kB)\n",
      "Downloading pillow-11.1.0-cp310-cp310-macosx_11_0_arm64.whl (3.1 MB)\n",
      "\u001b[2K   \u001b[90m━━━━━━━━━━━━━━━━━━━━━━━━━━━━━━━━━━━━━━━━\u001b[0m \u001b[32m3.1/3.1 MB\u001b[0m \u001b[31m15.4 MB/s\u001b[0m eta \u001b[36m0:00:00\u001b[0m\n",
      "\u001b[?25hUsing cached pyparsing-3.2.3-py3-none-any.whl (111 kB)\n",
      "Downloading pytz-2025.2-py2.py3-none-any.whl (509 kB)\n",
      "Downloading regex-2024.11.6-cp310-cp310-macosx_11_0_arm64.whl (284 kB)\n",
      "Downloading scipy-1.15.2-cp310-cp310-macosx_14_0_arm64.whl (22.4 MB)\n",
      "\u001b[2K   \u001b[90m━━━━━━━━━━━━━━━━━━━━━━━━━━━━━━━━━━━━━━━━\u001b[0m \u001b[32m22.4/22.4 MB\u001b[0m \u001b[31m16.1 MB/s\u001b[0m eta \u001b[36m0:00:00\u001b[0ma \u001b[36m0:00:01\u001b[0m\n",
      "\u001b[?25hUsing cached threadpoolctl-3.6.0-py3-none-any.whl (18 kB)\n",
      "Downloading tzdata-2025.2-py2.py3-none-any.whl (347 kB)\n",
      "Using cached click-8.1.8-py3-none-any.whl (98 kB)\n",
      "Using cached tqdm-4.67.1-py3-none-any.whl (78 kB)\n",
      "Installing collected packages: pytz, tzdata, tqdm, threadpoolctl, scipy, regex, pyparsing, pillow, kiwisolver, joblib, fonttools, cycler, contourpy, click, scikit-learn, pandas, nltk, matplotlib, seaborn\n",
      "Successfully installed click-8.1.8 contourpy-1.3.1 cycler-0.12.1 fonttools-4.56.0 joblib-1.4.2 kiwisolver-1.4.8 matplotlib-3.10.1 nltk-3.9.1 pandas-2.2.3 pillow-11.1.0 pyparsing-3.2.3 pytz-2025.2 regex-2024.11.6 scikit-learn-1.6.1 scipy-1.15.2 seaborn-0.13.2 threadpoolctl-3.6.0 tqdm-4.67.1 tzdata-2025.2\n",
      "\n",
      "\u001b[1m[\u001b[0m\u001b[34;49mnotice\u001b[0m\u001b[1;39;49m]\u001b[0m\u001b[39;49m A new release of pip is available: \u001b[0m\u001b[31;49m24.3.1\u001b[0m\u001b[39;49m -> \u001b[0m\u001b[32;49m25.0.1\u001b[0m\n",
      "\u001b[1m[\u001b[0m\u001b[34;49mnotice\u001b[0m\u001b[1;39;49m]\u001b[0m\u001b[39;49m To update, run: \u001b[0m\u001b[32;49mpip install --upgrade pip\u001b[0m\n"
     ]
    }
   ],
   "source": [
    "!pip3 install numpy pandas matplotlib seaborn scikit-learn nltk"
   ]
  },
  {
   "cell_type": "markdown",
   "id": "e4dd781e",
   "metadata": {},
   "source": [
    "# data read"
   ]
  },
  {
   "cell_type": "markdown",
   "id": "6422d305",
   "metadata": {},
   "source": [
    "### Process Description\n",
    "\n",
    "This section focuses on loading the dataset for sentiment analysis. The process involves:"
   ]
  },
  {
   "cell_type": "code",
   "execution_count": 7,
   "id": "398fd48d",
   "metadata": {
    "_cell_guid": "b1076dfc-b9ad-4769-8c92-a6c4dae69d19",
    "_uuid": "8f2839f25d086af736a60e9eeb907d3b93b6e0e5",
    "execution": {
     "iopub.execute_input": "2025-03-19T04:40:57.615023Z",
     "iopub.status.busy": "2025-03-19T04:40:57.614668Z",
     "iopub.status.idle": "2025-03-19T04:40:58.537719Z",
     "shell.execute_reply": "2025-03-19T04:40:58.536503Z"
    },
    "papermill": {
     "duration": 0.933355,
     "end_time": "2025-03-19T04:40:58.539863",
     "exception": false,
     "start_time": "2025-03-19T04:40:57.606508",
     "status": "completed"
    },
    "tags": []
   },
   "outputs": [],
   "source": [
    "import numpy as np # linear algebra\n",
    "import pandas as pd # data processing, CSV file I/O (e.g. pd.read_csv)"
   ]
  },
  {
   "cell_type": "markdown",
   "id": "ceb9c4c8",
   "metadata": {},
   "source": [
    "Reading the training data from 'twitter_training.csv' into a DataFrame named `df`"
   ]
  },
  {
   "cell_type": "code",
   "execution_count": 8,
   "id": "791681fe",
   "metadata": {
    "execution": {
     "iopub.execute_input": "2025-03-19T04:40:58.554743Z",
     "iopub.status.busy": "2025-03-19T04:40:58.554184Z",
     "iopub.status.idle": "2025-03-19T04:40:58.952957Z",
     "shell.execute_reply": "2025-03-19T04:40:58.951852Z"
    },
    "papermill": {
     "duration": 0.408154,
     "end_time": "2025-03-19T04:40:58.954949",
     "exception": false,
     "start_time": "2025-03-19T04:40:58.546795",
     "status": "completed"
    },
    "tags": []
   },
   "outputs": [],
   "source": [
    "df = pd.read_csv(\"twitter_training.csv\")\n",
    "df_val = pd.read_csv('twitter_validation.csv')"
   ]
  },
  {
   "cell_type": "code",
   "execution_count": 9,
   "id": "05e7399c",
   "metadata": {
    "execution": {
     "iopub.execute_input": "2025-03-19T04:40:58.968889Z",
     "iopub.status.busy": "2025-03-19T04:40:58.968555Z",
     "iopub.status.idle": "2025-03-19T04:40:58.994574Z",
     "shell.execute_reply": "2025-03-19T04:40:58.993531Z"
    },
    "papermill": {
     "duration": 0.034838,
     "end_time": "2025-03-19T04:40:58.996304",
     "exception": false,
     "start_time": "2025-03-19T04:40:58.961466",
     "status": "completed"
    },
    "tags": []
   },
   "outputs": [
    {
     "data": {
      "text/html": [
       "<div>\n",
       "<style scoped>\n",
       "    .dataframe tbody tr th:only-of-type {\n",
       "        vertical-align: middle;\n",
       "    }\n",
       "\n",
       "    .dataframe tbody tr th {\n",
       "        vertical-align: top;\n",
       "    }\n",
       "\n",
       "    .dataframe thead th {\n",
       "        text-align: right;\n",
       "    }\n",
       "</style>\n",
       "<table border=\"1\" class=\"dataframe\">\n",
       "  <thead>\n",
       "    <tr style=\"text-align: right;\">\n",
       "      <th></th>\n",
       "      <th>2401</th>\n",
       "      <th>Borderlands</th>\n",
       "      <th>Positive</th>\n",
       "      <th>im getting on borderlands and i will murder you all ,</th>\n",
       "    </tr>\n",
       "  </thead>\n",
       "  <tbody>\n",
       "    <tr>\n",
       "      <th>0</th>\n",
       "      <td>2401</td>\n",
       "      <td>Borderlands</td>\n",
       "      <td>Positive</td>\n",
       "      <td>I am coming to the borders and I will kill you...</td>\n",
       "    </tr>\n",
       "    <tr>\n",
       "      <th>1</th>\n",
       "      <td>2401</td>\n",
       "      <td>Borderlands</td>\n",
       "      <td>Positive</td>\n",
       "      <td>im getting on borderlands and i will kill you ...</td>\n",
       "    </tr>\n",
       "    <tr>\n",
       "      <th>2</th>\n",
       "      <td>2401</td>\n",
       "      <td>Borderlands</td>\n",
       "      <td>Positive</td>\n",
       "      <td>im coming on borderlands and i will murder you...</td>\n",
       "    </tr>\n",
       "    <tr>\n",
       "      <th>3</th>\n",
       "      <td>2401</td>\n",
       "      <td>Borderlands</td>\n",
       "      <td>Positive</td>\n",
       "      <td>im getting on borderlands 2 and i will murder ...</td>\n",
       "    </tr>\n",
       "    <tr>\n",
       "      <th>4</th>\n",
       "      <td>2401</td>\n",
       "      <td>Borderlands</td>\n",
       "      <td>Positive</td>\n",
       "      <td>im getting into borderlands and i can murder y...</td>\n",
       "    </tr>\n",
       "    <tr>\n",
       "      <th>5</th>\n",
       "      <td>2402</td>\n",
       "      <td>Borderlands</td>\n",
       "      <td>Positive</td>\n",
       "      <td>So I spent a few hours making something for fu...</td>\n",
       "    </tr>\n",
       "    <tr>\n",
       "      <th>6</th>\n",
       "      <td>2402</td>\n",
       "      <td>Borderlands</td>\n",
       "      <td>Positive</td>\n",
       "      <td>So I spent a couple of hours doing something f...</td>\n",
       "    </tr>\n",
       "    <tr>\n",
       "      <th>7</th>\n",
       "      <td>2402</td>\n",
       "      <td>Borderlands</td>\n",
       "      <td>Positive</td>\n",
       "      <td>So I spent a few hours doing something for fun...</td>\n",
       "    </tr>\n",
       "    <tr>\n",
       "      <th>8</th>\n",
       "      <td>2402</td>\n",
       "      <td>Borderlands</td>\n",
       "      <td>Positive</td>\n",
       "      <td>So I spent a few hours making something for fu...</td>\n",
       "    </tr>\n",
       "    <tr>\n",
       "      <th>9</th>\n",
       "      <td>2402</td>\n",
       "      <td>Borderlands</td>\n",
       "      <td>Positive</td>\n",
       "      <td>2010 So I spent a few hours making something f...</td>\n",
       "    </tr>\n",
       "  </tbody>\n",
       "</table>\n",
       "</div>"
      ],
      "text/plain": [
       "   2401  Borderlands  Positive  \\\n",
       "0  2401  Borderlands  Positive   \n",
       "1  2401  Borderlands  Positive   \n",
       "2  2401  Borderlands  Positive   \n",
       "3  2401  Borderlands  Positive   \n",
       "4  2401  Borderlands  Positive   \n",
       "5  2402  Borderlands  Positive   \n",
       "6  2402  Borderlands  Positive   \n",
       "7  2402  Borderlands  Positive   \n",
       "8  2402  Borderlands  Positive   \n",
       "9  2402  Borderlands  Positive   \n",
       "\n",
       "  im getting on borderlands and i will murder you all ,  \n",
       "0  I am coming to the borders and I will kill you...     \n",
       "1  im getting on borderlands and i will kill you ...     \n",
       "2  im coming on borderlands and i will murder you...     \n",
       "3  im getting on borderlands 2 and i will murder ...     \n",
       "4  im getting into borderlands and i can murder y...     \n",
       "5  So I spent a few hours making something for fu...     \n",
       "6  So I spent a couple of hours doing something f...     \n",
       "7  So I spent a few hours doing something for fun...     \n",
       "8  So I spent a few hours making something for fu...     \n",
       "9  2010 So I spent a few hours making something f...     "
      ]
     },
     "execution_count": 9,
     "metadata": {},
     "output_type": "execute_result"
    }
   ],
   "source": [
    "df.head(10)"
   ]
  },
  {
   "cell_type": "code",
   "execution_count": 10,
   "id": "b6cb9b95",
   "metadata": {
    "execution": {
     "iopub.execute_input": "2025-03-19T04:40:59.010571Z",
     "iopub.status.busy": "2025-03-19T04:40:59.010163Z",
     "iopub.status.idle": "2025-03-19T04:40:59.020547Z",
     "shell.execute_reply": "2025-03-19T04:40:59.019501Z"
    },
    "papermill": {
     "duration": 0.019251,
     "end_time": "2025-03-19T04:40:59.022204",
     "exception": false,
     "start_time": "2025-03-19T04:40:59.002953",
     "status": "completed"
    },
    "tags": []
   },
   "outputs": [
    {
     "data": {
      "text/html": [
       "<div>\n",
       "<style scoped>\n",
       "    .dataframe tbody tr th:only-of-type {\n",
       "        vertical-align: middle;\n",
       "    }\n",
       "\n",
       "    .dataframe tbody tr th {\n",
       "        vertical-align: top;\n",
       "    }\n",
       "\n",
       "    .dataframe thead th {\n",
       "        text-align: right;\n",
       "    }\n",
       "</style>\n",
       "<table border=\"1\" class=\"dataframe\">\n",
       "  <thead>\n",
       "    <tr style=\"text-align: right;\">\n",
       "      <th></th>\n",
       "      <th>3364</th>\n",
       "      <th>Facebook</th>\n",
       "      <th>Irrelevant</th>\n",
       "      <th>I mentioned on Facebook that I was struggling for motivation to go for a run the other day, which has been translated by Tom’s great auntie as ‘Hayley can’t get out of bed’ and told to his grandma, who now thinks I’m a lazy, terrible person 🤣</th>\n",
       "    </tr>\n",
       "  </thead>\n",
       "  <tbody>\n",
       "    <tr>\n",
       "      <th>0</th>\n",
       "      <td>352</td>\n",
       "      <td>Amazon</td>\n",
       "      <td>Neutral</td>\n",
       "      <td>BBC News - Amazon boss Jeff Bezos rejects clai...</td>\n",
       "    </tr>\n",
       "    <tr>\n",
       "      <th>1</th>\n",
       "      <td>8312</td>\n",
       "      <td>Microsoft</td>\n",
       "      <td>Negative</td>\n",
       "      <td>@Microsoft Why do I pay for WORD when it funct...</td>\n",
       "    </tr>\n",
       "    <tr>\n",
       "      <th>2</th>\n",
       "      <td>4371</td>\n",
       "      <td>CS-GO</td>\n",
       "      <td>Negative</td>\n",
       "      <td>CSGO matchmaking is so full of closet hacking,...</td>\n",
       "    </tr>\n",
       "    <tr>\n",
       "      <th>3</th>\n",
       "      <td>4433</td>\n",
       "      <td>Google</td>\n",
       "      <td>Neutral</td>\n",
       "      <td>Now the President is slapping Americans in the...</td>\n",
       "    </tr>\n",
       "    <tr>\n",
       "      <th>4</th>\n",
       "      <td>6273</td>\n",
       "      <td>FIFA</td>\n",
       "      <td>Negative</td>\n",
       "      <td>Hi @EAHelp I’ve had Madeleine McCann in my cel...</td>\n",
       "    </tr>\n",
       "    <tr>\n",
       "      <th>5</th>\n",
       "      <td>7925</td>\n",
       "      <td>MaddenNFL</td>\n",
       "      <td>Positive</td>\n",
       "      <td>Thank you @EAMaddenNFL!! \\n\\nNew TE Austin Hoo...</td>\n",
       "    </tr>\n",
       "    <tr>\n",
       "      <th>6</th>\n",
       "      <td>11332</td>\n",
       "      <td>TomClancysRainbowSix</td>\n",
       "      <td>Positive</td>\n",
       "      <td>Rocket League, Sea of Thieves or Rainbow Six: ...</td>\n",
       "    </tr>\n",
       "    <tr>\n",
       "      <th>7</th>\n",
       "      <td>1107</td>\n",
       "      <td>AssassinsCreed</td>\n",
       "      <td>Positive</td>\n",
       "      <td>my ass still knee-deep in Assassins Creed Odys...</td>\n",
       "    </tr>\n",
       "    <tr>\n",
       "      <th>8</th>\n",
       "      <td>2069</td>\n",
       "      <td>CallOfDuty</td>\n",
       "      <td>Negative</td>\n",
       "      <td>FIX IT JESUS ! Please FIX IT ! What In the wor...</td>\n",
       "    </tr>\n",
       "    <tr>\n",
       "      <th>9</th>\n",
       "      <td>3185</td>\n",
       "      <td>Dota2</td>\n",
       "      <td>Positive</td>\n",
       "      <td>The professional dota 2 scene is fucking explo...</td>\n",
       "    </tr>\n",
       "  </tbody>\n",
       "</table>\n",
       "</div>"
      ],
      "text/plain": [
       "    3364              Facebook Irrelevant  \\\n",
       "0    352                Amazon    Neutral   \n",
       "1   8312             Microsoft   Negative   \n",
       "2   4371                 CS-GO   Negative   \n",
       "3   4433                Google    Neutral   \n",
       "4   6273                  FIFA   Negative   \n",
       "5   7925             MaddenNFL   Positive   \n",
       "6  11332  TomClancysRainbowSix   Positive   \n",
       "7   1107        AssassinsCreed   Positive   \n",
       "8   2069            CallOfDuty   Negative   \n",
       "9   3185                 Dota2   Positive   \n",
       "\n",
       "  I mentioned on Facebook that I was struggling for motivation to go for a run the other day, which has been translated by Tom’s great auntie as ‘Hayley can’t get out of bed’ and told to his grandma, who now thinks I’m a lazy, terrible person 🤣  \n",
       "0  BBC News - Amazon boss Jeff Bezos rejects clai...                                                                                                                                                                                                  \n",
       "1  @Microsoft Why do I pay for WORD when it funct...                                                                                                                                                                                                  \n",
       "2  CSGO matchmaking is so full of closet hacking,...                                                                                                                                                                                                  \n",
       "3  Now the President is slapping Americans in the...                                                                                                                                                                                                  \n",
       "4  Hi @EAHelp I’ve had Madeleine McCann in my cel...                                                                                                                                                                                                  \n",
       "5  Thank you @EAMaddenNFL!! \\n\\nNew TE Austin Hoo...                                                                                                                                                                                                  \n",
       "6  Rocket League, Sea of Thieves or Rainbow Six: ...                                                                                                                                                                                                  \n",
       "7  my ass still knee-deep in Assassins Creed Odys...                                                                                                                                                                                                  \n",
       "8  FIX IT JESUS ! Please FIX IT ! What In the wor...                                                                                                                                                                                                  \n",
       "9  The professional dota 2 scene is fucking explo...                                                                                                                                                                                                  "
      ]
     },
     "execution_count": 10,
     "metadata": {},
     "output_type": "execute_result"
    }
   ],
   "source": [
    "df_val.head(10)"
   ]
  },
  {
   "cell_type": "markdown",
   "id": "c9257fc5",
   "metadata": {},
   "source": [
    "Checking for missing values in both datasets, which reveals that the training dataset has 686 null values in the review column, while the validation dataset has no null values"
   ]
  },
  {
   "cell_type": "code",
   "execution_count": 11,
   "id": "bc6a995e",
   "metadata": {
    "execution": {
     "iopub.execute_input": "2025-03-19T04:40:59.036887Z",
     "iopub.status.busy": "2025-03-19T04:40:59.036541Z",
     "iopub.status.idle": "2025-03-19T04:40:59.062112Z",
     "shell.execute_reply": "2025-03-19T04:40:59.061095Z"
    },
    "papermill": {
     "duration": 0.034888,
     "end_time": "2025-03-19T04:40:59.063815",
     "exception": false,
     "start_time": "2025-03-19T04:40:59.028927",
     "status": "completed"
    },
    "tags": []
   },
   "outputs": [
    {
     "data": {
      "text/plain": [
       "2401                                                       0\n",
       "Borderlands                                                0\n",
       "Positive                                                   0\n",
       "im getting on borderlands and i will murder you all ,    686\n",
       "dtype: int64"
      ]
     },
     "execution_count": 11,
     "metadata": {},
     "output_type": "execute_result"
    }
   ],
   "source": [
    "df.isna().sum() # null value in the review column "
   ]
  },
  {
   "cell_type": "code",
   "execution_count": 12,
   "id": "e63537ae",
   "metadata": {
    "execution": {
     "iopub.execute_input": "2025-03-19T04:40:59.078781Z",
     "iopub.status.busy": "2025-03-19T04:40:59.078445Z",
     "iopub.status.idle": "2025-03-19T04:40:59.085671Z",
     "shell.execute_reply": "2025-03-19T04:40:59.084803Z"
    },
    "papermill": {
     "duration": 0.016292,
     "end_time": "2025-03-19T04:40:59.087144",
     "exception": false,
     "start_time": "2025-03-19T04:40:59.070852",
     "status": "completed"
    },
    "tags": []
   },
   "outputs": [
    {
     "data": {
      "text/plain": [
       "3364                                                                                                                                                                                                                                                  0\n",
       "Facebook                                                                                                                                                                                                                                              0\n",
       "Irrelevant                                                                                                                                                                                                                                            0\n",
       "I mentioned on Facebook that I was struggling for motivation to go for a run the other day, which has been translated by Tom’s great auntie as ‘Hayley can’t get out of bed’ and told to his grandma, who now thinks I’m a lazy, terrible person 🤣    0\n",
       "dtype: int64"
      ]
     },
     "execution_count": 12,
     "metadata": {},
     "output_type": "execute_result"
    }
   ],
   "source": [
    "df_val.isna().sum() # no null value"
   ]
  },
  {
   "cell_type": "markdown",
   "id": "b715637f",
   "metadata": {},
   "source": [
    "# data preprocessing"
   ]
  },
  {
   "cell_type": "markdown",
   "id": "7b629751",
   "metadata": {},
   "source": [
    "### Process Description\n",
    "\n",
    "This section focuses on cleaning and preparing the data for modeling. The process includes:"
   ]
  },
  {
   "cell_type": "markdown",
   "id": "a50cfe55",
   "metadata": {},
   "source": [
    "Removing unnecessary columns from the training dataset (dropping the first column containing IDs)"
   ]
  },
  {
   "cell_type": "code",
   "execution_count": 10,
   "id": "55eecdb8",
   "metadata": {
    "execution": {
     "iopub.execute_input": "2025-03-19T04:40:59.102646Z",
     "iopub.status.busy": "2025-03-19T04:40:59.102232Z",
     "iopub.status.idle": "2025-03-19T04:40:59.169109Z",
     "shell.execute_reply": "2025-03-19T04:40:59.167559Z"
    },
    "papermill": {
     "duration": 0.076577,
     "end_time": "2025-03-19T04:40:59.170825",
     "exception": false,
     "start_time": "2025-03-19T04:40:59.094248",
     "status": "completed"
    },
    "tags": []
   },
   "outputs": [
    {
     "name": "stdout",
     "output_type": "stream",
     "text": [
      "<class 'pandas.core.frame.DataFrame'>\n",
      "Index: 73995 entries, 0 to 74680\n",
      "Data columns (total 3 columns):\n",
      " #   Column     Non-Null Count  Dtype \n",
      "---  ------     --------------  ----- \n",
      " 0   Keyword    73995 non-null  object\n",
      " 1   Sentiment  73995 non-null  object\n",
      " 2   Content    73995 non-null  object\n",
      "dtypes: object(3)\n",
      "memory usage: 2.3+ MB\n"
     ]
    }
   ],
   "source": [
    "df.drop(columns = ['2401'],axis=1, inplace=True)\n",
    "df.columns = [\"Keyword\", \"Sentiment\", \"Content\"]\n",
    "df.dropna(inplace=True)\n",
    "df.info()"
   ]
  },
  {
   "cell_type": "markdown",
   "id": "e3d760d9",
   "metadata": {},
   "source": [
    "Renaming the columns to more descriptive names: \"Keyword\", \"Sentiment\", and \"Content\""
   ]
  },
  {
   "cell_type": "code",
   "execution_count": 11,
   "id": "4163701b",
   "metadata": {
    "execution": {
     "iopub.execute_input": "2025-03-19T04:40:59.186298Z",
     "iopub.status.busy": "2025-03-19T04:40:59.185967Z",
     "iopub.status.idle": "2025-03-19T04:40:59.198135Z",
     "shell.execute_reply": "2025-03-19T04:40:59.196832Z"
    },
    "papermill": {
     "duration": 0.021714,
     "end_time": "2025-03-19T04:40:59.199789",
     "exception": false,
     "start_time": "2025-03-19T04:40:59.178075",
     "status": "completed"
    },
    "tags": []
   },
   "outputs": [
    {
     "name": "stdout",
     "output_type": "stream",
     "text": [
      "<class 'pandas.core.frame.DataFrame'>\n",
      "RangeIndex: 999 entries, 0 to 998\n",
      "Data columns (total 3 columns):\n",
      " #   Column     Non-Null Count  Dtype \n",
      "---  ------     --------------  ----- \n",
      " 0   Keyword    999 non-null    object\n",
      " 1   Sentiment  999 non-null    object\n",
      " 2   Content    999 non-null    object\n",
      "dtypes: object(3)\n",
      "memory usage: 23.5+ KB\n"
     ]
    }
   ],
   "source": [
    "df_val.drop(columns = ['3364'],axis=1, inplace=True)\n",
    "df_val.columns = [\"Keyword\", \"Sentiment\", \"Content\"]\n",
    "df_val.dropna(inplace=True)\n",
    "df_val.info()"
   ]
  },
  {
   "cell_type": "markdown",
   "id": "e38c9190",
   "metadata": {},
   "source": [
    "Removing rows with missing values to ensure data quality"
   ]
  },
  {
   "cell_type": "code",
   "execution_count": 12,
   "id": "bab7a951",
   "metadata": {
    "execution": {
     "iopub.execute_input": "2025-03-19T04:40:59.215057Z",
     "iopub.status.busy": "2025-03-19T04:40:59.214685Z",
     "iopub.status.idle": "2025-03-19T04:40:59.248980Z",
     "shell.execute_reply": "2025-03-19T04:40:59.247536Z"
    },
    "papermill": {
     "duration": 0.043977,
     "end_time": "2025-03-19T04:40:59.250846",
     "exception": false,
     "start_time": "2025-03-19T04:40:59.206869",
     "status": "completed"
    },
    "tags": []
   },
   "outputs": [
    {
     "name": "stdout",
     "output_type": "stream",
     "text": [
      "0 0\n"
     ]
    }
   ],
   "source": [
    "\n",
    "null_df = df.isnull().sum().sum()\n",
    "null_df_vl = df.isnull().sum().sum()\n",
    "print(null_df, null_df_vl)"
   ]
  },
  {
   "cell_type": "markdown",
   "id": "9fa9c6c3",
   "metadata": {},
   "source": [
    "Examining the dataset information to confirm the changes and understand the data structure (73,995 entries with 3 columns)"
   ]
  },
  {
   "cell_type": "code",
   "execution_count": null,
   "id": "b272c1bf",
   "metadata": {
    "execution": {
     "iopub.execute_input": "2025-03-19T04:40:59.266346Z",
     "iopub.status.busy": "2025-03-19T04:40:59.265981Z",
     "iopub.status.idle": "2025-03-19T04:40:59.578503Z",
     "shell.execute_reply": "2025-03-19T04:40:59.577383Z"
    },
    "papermill": {
     "duration": 0.321953,
     "end_time": "2025-03-19T04:40:59.580062",
     "exception": false,
     "start_time": "2025-03-19T04:40:59.258109",
     "status": "completed"
    },
    "tags": []
   },
   "outputs": [
    {
     "name": "stdout",
     "output_type": "stream",
     "text": [
      "Sentiment\n",
      "Negative      30.215555\n",
      "Positive      27.912697\n",
      "Neutral       24.471924\n",
      "Irrelevant    17.399824\n",
      "Name: proportion, dtype: float64\n"
     ]
    },
    {
     "data": {
      "text/plain": [
       "<Axes: xlabel='Sentiment'>"
      ]
     },
     "execution_count": 13,
     "metadata": {},
     "output_type": "execute_result"
    },
    {
     "data": {
      "image/png": "[encoded data removed]",
      "text/plain": [
       "<Figure size 640x480 with 1 Axes>"
      ]
     },
     "metadata": {},
     "output_type": "display_data"
    }
   ],
   "source": [
    "\n",
    "df_sen = df['Sentiment'].value_counts(normalize=True) * 100\n",
    "print(df_sen)\n",
    "df_sen.plot(kind='bar') "
   ]
  },
  {
   "cell_type": "markdown",
   "id": "acd049b6",
   "metadata": {},
   "source": [
    "Similarly renaming and organizing the validation dataset for consistency"
   ]
  },
  {
   "cell_type": "code",
   "execution_count": 14,
   "id": "4150340f",
   "metadata": {
    "execution": {
     "iopub.execute_input": "2025-03-19T04:40:59.596625Z",
     "iopub.status.busy": "2025-03-19T04:40:59.596196Z",
     "iopub.status.idle": "2025-03-19T04:40:59.608156Z",
     "shell.execute_reply": "2025-03-19T04:40:59.607235Z"
    },
    "papermill": {
     "duration": 0.02195,
     "end_time": "2025-03-19T04:40:59.609759",
     "exception": false,
     "start_time": "2025-03-19T04:40:59.587809",
     "status": "completed"
    },
    "tags": []
   },
   "outputs": [
    {
     "data": {
      "text/plain": [
       "Keyword\n",
       "MaddenNFL                            2377\n",
       "LeagueOfLegends                      2377\n",
       "CallOfDuty                           2376\n",
       "Verizon                              2365\n",
       "TomClancysRainbowSix                 2364\n",
       "Facebook                             2362\n",
       "Microsoft                            2361\n",
       "Dota2                                2359\n",
       "WorldOfCraft                         2357\n",
       "ApexLegends                          2353\n",
       "NBA2K                                2343\n",
       "CallOfDutyBlackopsColdWar            2343\n",
       "FIFA                                 2324\n",
       "johnson&johnson                      2324\n",
       "TomClancysGhostRecon                 2321\n",
       "Battlefield                          2316\n",
       "Overwatch                            2316\n",
       "GrandTheftAuto(GTA)                  2293\n",
       "HomeDepot                            2292\n",
       "PlayStation5(PS5)                    2291\n",
       "Hearthstone                          2286\n",
       "CS-GO                                2284\n",
       "Xbox(Xseries)                        2283\n",
       "Borderlands                          2279\n",
       "Amazon                               2276\n",
       "Google                               2274\n",
       "Nvidia                               2271\n",
       "Cyberpunk2077                        2262\n",
       "RedDeadRedemption(RDR)               2249\n",
       "Fortnite                             2249\n",
       "PlayerUnknownsBattlegrounds(PUBG)    2234\n",
       "AssassinsCreed                       2234\n",
       "Name: count, dtype: int64"
      ]
     },
     "execution_count": 14,
     "metadata": {},
     "output_type": "execute_result"
    }
   ],
   "source": [
    "df['Keyword'].value_counts() "
   ]
  },
  {
   "cell_type": "code",
   "execution_count": 15,
   "id": "78d60020",
   "metadata": {
    "execution": {
     "iopub.execute_input": "2025-03-19T04:40:59.626399Z",
     "iopub.status.busy": "2025-03-19T04:40:59.626040Z",
     "iopub.status.idle": "2025-03-19T04:40:59.632787Z",
     "shell.execute_reply": "2025-03-19T04:40:59.631832Z"
    },
    "papermill": {
     "duration": 0.0167,
     "end_time": "2025-03-19T04:40:59.634160",
     "exception": false,
     "start_time": "2025-03-19T04:40:59.617460",
     "status": "completed"
    },
    "tags": []
   },
   "outputs": [
    {
     "data": {
      "text/plain": [
       "0    I am coming to the borders and I will kill you...\n",
       "1    im getting on borderlands and i will kill you ...\n",
       "2    im coming on borderlands and i will murder you...\n",
       "3    im getting on borderlands 2 and i will murder ...\n",
       "4    im getting into borderlands and i can murder y...\n",
       "5    So I spent a few hours making something for fu...\n",
       "6    So I spent a couple of hours doing something f...\n",
       "7    So I spent a few hours doing something for fun...\n",
       "8    So I spent a few hours making something for fu...\n",
       "9    2010 So I spent a few hours making something f...\n",
       "Name: Content, dtype: object"
      ]
     },
     "execution_count": 15,
     "metadata": {},
     "output_type": "execute_result"
    }
   ],
   "source": [
    "df['Content'].head(10) "
   ]
  },
  {
   "cell_type": "markdown",
   "id": "d752a931",
   "metadata": {},
   "source": [
    "Creating separate content and entity length analysis to understand the text characteristics"
   ]
  },
  {
   "cell_type": "code",
   "execution_count": 16,
   "id": "1e7d02fc",
   "metadata": {
    "execution": {
     "iopub.execute_input": "2025-03-19T04:40:59.650924Z",
     "iopub.status.busy": "2025-03-19T04:40:59.650584Z",
     "iopub.status.idle": "2025-03-19T04:40:59.814040Z",
     "shell.execute_reply": "2025-03-19T04:40:59.812850Z"
    },
    "papermill": {
     "duration": 0.173969,
     "end_time": "2025-03-19T04:40:59.815926",
     "exception": false,
     "start_time": "2025-03-19T04:40:59.641957",
     "status": "completed"
    },
    "tags": []
   },
   "outputs": [],
   "source": [
    "word_len = df['Content'].apply(lambda x: len(x.split()))\n",
    "entity_len = df['Keyword'].apply(lambda x: len(x.split()))"
   ]
  },
  {
   "cell_type": "code",
   "execution_count": 17,
   "id": "63331c0e",
   "metadata": {
    "execution": {
     "iopub.execute_input": "2025-03-19T04:40:59.833173Z",
     "iopub.status.busy": "2025-03-19T04:40:59.832811Z",
     "iopub.status.idle": "2025-03-19T04:41:00.032847Z",
     "shell.execute_reply": "2025-03-19T04:41:00.031750Z"
    },
    "papermill": {
     "duration": 0.210375,
     "end_time": "2025-03-19T04:41:00.034505",
     "exception": false,
     "start_time": "2025-03-19T04:40:59.824130",
     "status": "completed"
    },
    "tags": []
   },
   "outputs": [
    {
     "data": {
      "text/plain": [
       "<Axes: >"
      ]
     },
     "execution_count": 17,
     "metadata": {},
     "output_type": "execute_result"
    },
    {
     "data": {
      "image/png": "[encoded data removed]",
      "text/plain": [
       "<Figure size 640x480 with 1 Axes>"
      ]
     },
     "metadata": {},
     "output_type": "display_data"
    }
   ],
   "source": [
    "entity_len.hist() # max len = 1"
   ]
  },
  {
   "cell_type": "code",
   "execution_count": 18,
   "id": "a97c2872",
   "metadata": {
    "execution": {
     "iopub.execute_input": "2025-03-19T04:41:00.052354Z",
     "iopub.status.busy": "2025-03-19T04:41:00.052002Z",
     "iopub.status.idle": "2025-03-19T04:41:00.248623Z",
     "shell.execute_reply": "2025-03-19T04:41:00.247443Z"
    },
    "papermill": {
     "duration": 0.207497,
     "end_time": "2025-03-19T04:41:00.250308",
     "exception": false,
     "start_time": "2025-03-19T04:41:00.042811",
     "status": "completed"
    },
    "tags": []
   },
   "outputs": [
    {
     "data": {
      "text/plain": [
       "<Axes: >"
      ]
     },
     "execution_count": 18,
     "metadata": {},
     "output_type": "execute_result"
    },
    {
     "data": {
      "image/png": "[encoded data removed]",
      "text/plain": [
       "<Figure size 640x480 with 1 Axes>"
      ]
     },
     "metadata": {},
     "output_type": "display_data"
    }
   ],
   "source": [
    "word_len.hist() #chose max length = 75 "
   ]
  },
  {
   "cell_type": "markdown",
   "id": "1ccbaae6",
   "metadata": {},
   "source": [
    "Visualizing the distribution of text lengths to inform preprocessing decisions"
   ]
  },
  {
   "cell_type": "markdown",
   "id": "6a163fad",
   "metadata": {},
   "source": [
    "# train test split"
   ]
  },
  {
   "cell_type": "markdown",
   "id": "43e8c3a2",
   "metadata": {},
   "source": [
    "### Process Description\n",
    "\n",
    "This section divides the dataset into training and testing sets for model development and evaluation. The process involves:"
   ]
  },
  {
   "cell_type": "code",
   "execution_count": 19,
   "id": "5417a75e",
   "metadata": {
    "execution": {
     "iopub.execute_input": "2025-03-19T04:41:00.269268Z",
     "iopub.status.busy": "2025-03-19T04:41:00.268904Z",
     "iopub.status.idle": "2025-03-19T04:41:01.655413Z",
     "shell.execute_reply": "2025-03-19T04:41:01.654102Z"
    },
    "papermill": {
     "duration": 1.39796,
     "end_time": "2025-03-19T04:41:01.657192",
     "exception": false,
     "start_time": "2025-03-19T04:41:00.259232",
     "status": "completed"
    },
    "tags": []
   },
   "outputs": [
    {
     "name": "stdout",
     "output_type": "stream",
     "text": [
      "Training set (X_train) shape: (59196, 2)\n",
      "Training labels (y_train) shape: (59196,)\n",
      "Validation set (X_val) shape: (14799, 2)\n",
      "Validation labels (y_val) shape: (14799,)\n"
     ]
    }
   ],
   "source": [
    "from sklearn.model_selection import train_test_split\n",
    "\n",
    "X = df.drop('Sentiment', axis=1)\n",
    "y = df['Sentiment']\n",
    "\n",
    "\n",
    "X_train, X_val, y_train, y_val = train_test_split(X, y, test_size=0.2, random_state=42)\n",
    "\n",
    "print(f\"Training set (X_train) shape: {X_train.shape}\")\n",
    "print(f\"Training labels (y_train) shape: {y_train.shape}\")\n",
    "print(f\"Validation set (X_val) shape: {X_val.shape}\")\n",
    "print(f\"Validation labels (y_val) shape: {y_val.shape}\")"
   ]
  },
  {
   "cell_type": "markdown",
   "id": "27690b3f",
   "metadata": {},
   "source": [
    "Creating separate feature (X) and target (y) variables from the training dataset\n",
    "Splitting the data into training (80%) and testing (20%) sets using stratified sampling to maintain class distribution\n",
    "Further splitting the test set to create a validation set for model tuning"
   ]
  },
  {
   "cell_type": "code",
   "execution_count": 20,
   "id": "d66c9c68",
   "metadata": {
    "execution": {
     "iopub.execute_input": "2025-03-19T04:41:01.676383Z",
     "iopub.status.busy": "2025-03-19T04:41:01.675859Z",
     "iopub.status.idle": "2025-03-19T04:41:01.681858Z",
     "shell.execute_reply": "2025-03-19T04:41:01.680886Z"
    },
    "papermill": {
     "duration": 0.017116,
     "end_time": "2025-03-19T04:41:01.683290",
     "exception": false,
     "start_time": "2025-03-19T04:41:01.666174",
     "status": "completed"
    },
    "tags": []
   },
   "outputs": [
    {
     "name": "stdout",
     "output_type": "stream",
     "text": [
      "Test set (X_train) shape: (999, 2)\n",
      "Test labels (y_train) shape: (999,)\n"
     ]
    }
   ],
   "source": [
    "X_test = df_val.drop('Sentiment', axis=1)\n",
    "y_test = df_val['Sentiment']\n",
    "\n",
    "\n",
    "print(f\"Test set (X_train) shape: {X_test.shape}\")\n",
    "print(f\"Test labels (y_train) shape: {y_test.shape}\")"
   ]
  },
  {
   "cell_type": "code",
   "execution_count": 21,
   "id": "55ea615c",
   "metadata": {
    "execution": {
     "iopub.execute_input": "2025-03-19T04:41:01.702040Z",
     "iopub.status.busy": "2025-03-19T04:41:01.701665Z",
     "iopub.status.idle": "2025-03-19T04:41:01.708675Z",
     "shell.execute_reply": "2025-03-19T04:41:01.707705Z"
    },
    "papermill": {
     "duration": 0.018054,
     "end_time": "2025-03-19T04:41:01.710138",
     "exception": false,
     "start_time": "2025-03-19T04:41:01.692084",
     "status": "completed"
    },
    "tags": []
   },
   "outputs": [
    {
     "data": {
      "text/plain": [
       "Sentiment\n",
       "Neutral       285\n",
       "Positive      277\n",
       "Negative      266\n",
       "Irrelevant    171\n",
       "Name: count, dtype: int64"
      ]
     },
     "execution_count": 21,
     "metadata": {},
     "output_type": "execute_result"
    }
   ],
   "source": [
    "y_test.value_counts()"
   ]
  },
  {
   "cell_type": "markdown",
   "id": "94c68c50",
   "metadata": {},
   "source": [
    "Encoding the sentiment labels (converting categorical labels to numerical values) using LabelEncoder"
   ]
  },
  {
   "cell_type": "code",
   "execution_count": null,
   "id": "96513f60",
   "metadata": {
    "execution": {
     "iopub.execute_input": "2025-03-19T04:41:01.729049Z",
     "iopub.status.busy": "2025-03-19T04:41:01.728687Z",
     "iopub.status.idle": "2025-03-19T04:41:01.757806Z",
     "shell.execute_reply": "2025-03-19T04:41:01.756698Z"
    },
    "papermill": {
     "duration": 0.040877,
     "end_time": "2025-03-19T04:41:01.759778",
     "exception": false,
     "start_time": "2025-03-19T04:41:01.718901",
     "status": "completed"
    },
    "tags": []
   },
   "outputs": [
    {
     "name": "stdout",
     "output_type": "stream",
     "text": [
      "{np.int64(0), np.int64(1), np.int64(2), np.int64(3)}\n",
      "{np.int64(0), np.int64(1), np.int64(2), np.int64(3)}\n",
      "{np.int64(0), np.int64(1), np.int64(2), np.int64(3)}\n",
      "Mapping nhãn: {'Irrelevant': np.int64(0), 'Negative': np.int64(1), 'Neutral': np.int64(2), 'Positive': np.int64(3)}\n"
     ]
    }
   ],
   "source": [
    "from sklearn.preprocessing import LabelEncoder\n",
    "\n",
    "\n",
    "label_encoder = LabelEncoder()\n",
    "y_train_encoded = label_encoder.fit_transform(y_train)  # Encode training labels\n",
    "y_val_encoded = label_encoder.transform(y_val)         # Encode validation labels\n",
    "y_test_encoded = label_encoder.transform(y_test)       # Encode test labels\n",
    "\n",
    "\n",
    "print(set(y_train_encoded))\n",
    "print(set(y_val_encoded))\n",
    "print(set(y_test_encoded))\n",
    "print(\"Mapping nhãn:\", dict(zip(label_encoder.classes_, label_encoder.transform(label_encoder.classes_))))"
   ]
  },
  {
   "cell_type": "markdown",
   "id": "ce3adea0",
   "metadata": {},
   "source": [
    "Preparing separate versions of the data for both the content text and entity (keyword) information"
   ]
  },
  {
   "cell_type": "code",
   "execution_count": 24,
   "id": "e24f7683",
   "metadata": {
    "execution": {
     "iopub.execute_input": "2025-03-19T04:41:01.810684Z",
     "iopub.status.busy": "2025-03-19T04:41:01.810304Z",
     "iopub.status.idle": "2025-03-19T04:41:03.694519Z",
     "shell.execute_reply": "2025-03-19T04:41:03.693328Z"
    },
    "papermill": {
     "duration": 1.896549,
     "end_time": "2025-03-19T04:41:03.696541",
     "exception": false,
     "start_time": "2025-03-19T04:41:01.799992",
     "status": "completed"
    },
    "tags": []
   },
   "outputs": [
    {
     "name": "stderr",
     "output_type": "stream",
     "text": [
      "[nltk_data] Downloading package stopwords to\n",
      "[nltk_data]     /Users/bhuwanthapa/nltk_data...\n",
      "[nltk_data]   Package stopwords is already up-to-date!\n"
     ]
    },
    {
     "data": {
      "text/html": [
       "<div>\n",
       "<style scoped>\n",
       "    .dataframe tbody tr th:only-of-type {\n",
       "        vertical-align: middle;\n",
       "    }\n",
       "\n",
       "    .dataframe tbody tr th {\n",
       "        vertical-align: top;\n",
       "    }\n",
       "\n",
       "    .dataframe thead th {\n",
       "        text-align: right;\n",
       "    }\n",
       "</style>\n",
       "<table border=\"1\" class=\"dataframe\">\n",
       "  <thead>\n",
       "    <tr style=\"text-align: right;\">\n",
       "      <th></th>\n",
       "      <th>Keyword</th>\n",
       "      <th>Content</th>\n",
       "    </tr>\n",
       "  </thead>\n",
       "  <tbody>\n",
       "    <tr>\n",
       "      <th>61022</th>\n",
       "      <td>grandtheftauto(gta)</td>\n",
       "      <td>dream girlfriend got married rthen drive home ...</td>\n",
       "    </tr>\n",
       "    <tr>\n",
       "      <th>33058</th>\n",
       "      <td>fortnite</td>\n",
       "      <td>buy yo alix formula big big fan mean way lot p...</td>\n",
       "    </tr>\n",
       "    <tr>\n",
       "      <th>19839</th>\n",
       "      <td>worldofcraft</td>\n",
       "      <td>also earned [ scrappy's weekly best friend ] a...</td>\n",
       "    </tr>\n",
       "    <tr>\n",
       "      <th>74051</th>\n",
       "      <td>nvidia</td>\n",
       "      <td>nvidia celebrates 40 years pac-man ai recreati...</td>\n",
       "    </tr>\n",
       "    <tr>\n",
       "      <th>13578</th>\n",
       "      <td>nba2k</td>\n",
       "      <td>congratulations champions season 2 @ twolvesga...</td>\n",
       "    </tr>\n",
       "    <tr>\n",
       "      <th>8754</th>\n",
       "      <td>overwatch</td>\n",
       "      <td>started playing overwatch year off. still pret...</td>\n",
       "    </tr>\n",
       "    <tr>\n",
       "      <th>31695</th>\n",
       "      <td>leagueoflegends</td>\n",
       "      <td>hmmm top lane scion mad things little ( voli b...</td>\n",
       "    </tr>\n",
       "    <tr>\n",
       "      <th>8050</th>\n",
       "      <td>overwatch</td>\n",
       "      <td>overwatch full idiots. o'm done.</td>\n",
       "    </tr>\n",
       "    <tr>\n",
       "      <th>41884</th>\n",
       "      <td>battlefield</td>\n",
       "      <td>messed poker duel</td>\n",
       "    </tr>\n",
       "    <tr>\n",
       "      <th>55508</th>\n",
       "      <td>callofduty</td>\n",
       "      <td>looking back old correspondence hardrive.... y...</td>\n",
       "    </tr>\n",
       "  </tbody>\n",
       "</table>\n",
       "</div>"
      ],
      "text/plain": [
       "                   Keyword                                            Content\n",
       "61022  grandtheftauto(gta)  dream girlfriend got married rthen drive home ...\n",
       "33058             fortnite  buy yo alix formula big big fan mean way lot p...\n",
       "19839         worldofcraft  also earned [ scrappy's weekly best friend ] a...\n",
       "74051               nvidia  nvidia celebrates 40 years pac-man ai recreati...\n",
       "13578                nba2k  congratulations champions season 2 @ twolvesga...\n",
       "8754             overwatch  started playing overwatch year off. still pret...\n",
       "31695      leagueoflegends  hmmm top lane scion mad things little ( voli b...\n",
       "8050             overwatch                   overwatch full idiots. o'm done.\n",
       "41884          battlefield                                  messed poker duel\n",
       "55508           callofduty  looking back old correspondence hardrive.... y..."
      ]
     },
     "execution_count": 24,
     "metadata": {},
     "output_type": "execute_result"
    }
   ],
   "source": [
    "import nltk\n",
    "import re\n",
    "nltk.download('stopwords')\n",
    "from nltk.corpus import stopwords\n",
    "stop_words = set(stopwords.words('english'))\n",
    "\n",
    "abbreviations = {\n",
    "    \"I'll\": \"I will\",\n",
    "    \"don't\": \"do not\",\n",
    "    \"gonna\": \"going to\",\n",
    "    \"wanna\": \"want to\",\n",
    "    \"can't\": \"cannot\",\n",
    "    \"won't\": \"will not\",\n",
    "    \"I'm\": \"I am\",\n",
    "    \"you're\": \"you are\",\n",
    "    \"they're\": \"they are\"\n",
    "}\n",
    "\n",
    "def preprocess(text):\n",
    "    text = text.lower()\n",
    "    for abbr, expanded in abbreviations.items():\n",
    "        text = text.replace(abbr.lower(), expanded.lower())\n",
    "    words = text.split()\n",
    "    filtered_words = [word for word in words if word not in stop_words]\n",
    "    \n",
    "    return ' '.join(filtered_words)\n",
    "\n",
    "X_train['Content'] = X_train['Content'].apply(preprocess)\n",
    "X_train['Keyword'] = X_train['Keyword'].str.lower()\n",
    "\n",
    "X_val['Content'] = X_val['Content'].apply(preprocess)\n",
    "X_val['Keyword'] = X_val['Keyword'].str.lower()\n",
    "\n",
    "X_test['Content'] = X_test['Content'].apply(preprocess)\n",
    "X_test['Keyword'] = X_test['Keyword'].str.lower()\n",
    "\n",
    "X_train.head(10)"
   ]
  },
  {
   "cell_type": "markdown",
   "id": "079096d5",
   "metadata": {},
   "source": [
    "Setting up the data structure for a multi-input model that will use both text content and entity information"
   ]
  },
  {
   "cell_type": "markdown",
   "id": "e2cbf95e",
   "metadata": {},
   "source": [
    "# natural text to token"
   ]
  },
  {
   "cell_type": "markdown",
   "id": "30302733",
   "metadata": {},
   "source": [
    "### Process Description\n",
    "\n",
    "This section transforms the raw text data into numerical tokens that can be fed into a neural network. The process includes:"
   ]
  },
  {
   "cell_type": "code",
   "execution_count": 25,
   "id": "f94f0ce1",
   "metadata": {
    "execution": {
     "iopub.execute_input": "2025-03-19T04:41:03.733829Z",
     "iopub.status.busy": "2025-03-19T04:41:03.733388Z",
     "iopub.status.idle": "2025-03-19T04:41:18.118871Z",
     "shell.execute_reply": "2025-03-19T04:41:18.117835Z"
    },
    "papermill": {
     "duration": 14.406757,
     "end_time": "2025-03-19T04:41:18.121160",
     "exception": false,
     "start_time": "2025-03-19T04:41:03.714403",
     "status": "completed"
    },
    "tags": []
   },
   "outputs": [],
   "source": [
    "import numpy as np\n",
    "import pandas as pd\n",
    "from tensorflow.keras.preprocessing.text import Tokenizer\n",
    "from tensorflow.keras.preprocessing.sequence import pad_sequences\n",
    "from tensorflow.keras.models import Model\n",
    "from tensorflow.keras.layers import Input, Embedding, LSTM, Dense, Concatenate, Dropout, Flatten\n",
    "\n",
    "# Parameters\n",
    "max_features = 10000  # Maximum number of words in content vocabulary\n",
    "maxlen_content = 75   # Maximum length for content sequences\n",
    "maxlen_entity = 1     # Maximum length for entity sequences (exactly 1)\n",
    "embedding_dim = 100   # Embedding dimension\n",
    "batch_size = 256\n",
    "epochs = 20"
   ]
  },
  {
   "cell_type": "markdown",
   "id": "1bd1569c",
   "metadata": {},
   "source": [
    "Setting key parameters for the tokenization process:\n",
    "   - Maximum vocabulary size (10,000 words)\n",
    "   - Maximum sequence length for content (75 tokens)\n",
    "   - Maximum length for entity sequences (1 token)\n",
    "   - Embedding dimension (100)"
   ]
  },
  {
   "cell_type": "code",
   "execution_count": 26,
   "id": "f35ab7dd",
   "metadata": {
    "collapsed": true,
    "execution": {
     "iopub.execute_input": "2025-03-19T04:41:18.150890Z",
     "iopub.status.busy": "2025-03-19T04:41:18.150188Z",
     "iopub.status.idle": "2025-03-19T04:41:19.317913Z",
     "shell.execute_reply": "2025-03-19T04:41:19.316729Z"
    },
    "jupyter": {
     "outputs_hidden": true
    },
    "papermill": {
     "duration": 1.180946,
     "end_time": "2025-03-19T04:41:19.319955",
     "exception": false,
     "start_time": "2025-03-19T04:41:18.139009",
     "status": "completed"
    },
    "tags": []
   },
   "outputs": [],
   "source": [
    "\n",
    "entity_tokenizer = Tokenizer() # initialize Tokenizer\n",
    "entity_tokenizer.fit_on_texts(X_train['Keyword']) # learn all words on Keyword entity and assign unique ID to each \n",
    "entity_vocab_size = len(entity_tokenizer.word_index) + 1 # plus 1 for special token \n",
    "\n",
    "# Convert entities to sequences\n",
    "X_train_entity_seq = entity_tokenizer.texts_to_sequences(X_train['Keyword']) # process to number based on entity_tokenizer\n",
    "X_val_entity_seq = entity_tokenizer.texts_to_sequences(X_val['Keyword'])\n",
    "X_test_entity_seq = entity_tokenizer.texts_to_sequences(X_test['Keyword'])\n",
    "\n",
    "# Ensure each entity is represented as a single token (take first token if multiple) - embedding with 2D \n",
    "X_train_entity = np.array([seq[0] if len(seq) > 0 else 0 for seq in X_train_entity_seq]).reshape(-1, 1)\n",
    "X_val_entity = np.array([seq[0] if len(seq) > 0 else 0 for seq in X_val_entity_seq]).reshape(-1, 1)\n",
    "X_test_entity = np.array([seq[0] if len(seq) > 0 else 0 for seq in X_test_entity_seq]).reshape(-1, 1)"
   ]
  },
  {
   "cell_type": "markdown",
   "id": "7ea8c099",
   "metadata": {},
   "source": [
    "Creating two separate tokenizers:\n",
    "   - One for the main text content, which learns a vocabulary from the training data\n",
    "   - Another for the keyword entities"
   ]
  },
  {
   "cell_type": "code",
   "execution_count": 27,
   "id": "531dbdab",
   "metadata": {
    "execution": {
     "iopub.execute_input": "2025-03-19T04:41:19.340354Z",
     "iopub.status.busy": "2025-03-19T04:41:19.340024Z",
     "iopub.status.idle": "2025-03-19T04:41:19.345937Z",
     "shell.execute_reply": "2025-03-19T04:41:19.344849Z"
    },
    "papermill": {
     "duration": 0.017945,
     "end_time": "2025-03-19T04:41:19.347496",
     "exception": false,
     "start_time": "2025-03-19T04:41:19.329551",
     "status": "completed"
    },
    "tags": []
   },
   "outputs": [
    {
     "data": {
      "text/plain": [
       "array([[24],\n",
       "       [33],\n",
       "       [ 7],\n",
       "       [26],\n",
       "       [12],\n",
       "       [13],\n",
       "       [ 4],\n",
       "       [13],\n",
       "       [16],\n",
       "       [ 6]])"
      ]
     },
     "execution_count": 27,
     "metadata": {},
     "output_type": "execute_result"
    }
   ],
   "source": [
    "X_train_entity[0:10]"
   ]
  },
  {
   "cell_type": "markdown",
   "id": "76eabe49",
   "metadata": {},
   "source": [
    "Converting text to sequences of integers based on the learned vocabularies"
   ]
  },
  {
   "cell_type": "code",
   "execution_count": 28,
   "id": "8c796860",
   "metadata": {
    "execution": {
     "iopub.execute_input": "2025-03-19T04:41:19.367684Z",
     "iopub.status.busy": "2025-03-19T04:41:19.367275Z",
     "iopub.status.idle": "2025-03-19T04:41:22.228528Z",
     "shell.execute_reply": "2025-03-19T04:41:22.227404Z"
    },
    "papermill": {
     "duration": 2.873446,
     "end_time": "2025-03-19T04:41:22.230608",
     "exception": false,
     "start_time": "2025-03-19T04:41:19.357162",
     "status": "completed"
    },
    "tags": []
   },
   "outputs": [],
   "source": [
    "\n",
    "content_tokenizer = Tokenizer(num_words=max_features)\n",
    "content_tokenizer.fit_on_texts(X_train['Content'])\n",
    "content_vocab_size = min(max_features, len(content_tokenizer.word_index) + 1)\n",
    "\n",
    "\n",
    "X_train_content_seq = content_tokenizer.texts_to_sequences(X_train['Content'])\n",
    "X_val_content_seq = content_tokenizer.texts_to_sequences(X_val['Content'])\n",
    "X_test_content_seq = content_tokenizer.texts_to_sequences(X_test['Content'])\n",
    "\n",
    "\n",
    "X_train_content = pad_sequences(X_train_content_seq, maxlen=maxlen_content)\n",
    "X_val_content = pad_sequences(X_val_content_seq, maxlen=maxlen_content)\n",
    "X_test_content = pad_sequences(X_test_content_seq, maxlen=maxlen_content)"
   ]
  },
  {
   "cell_type": "markdown",
   "id": "5ac5e275",
   "metadata": {},
   "source": [
    "Padding sequences to ensure uniform length:\n",
    "   - Content sequences are padded to 75 tokens\n",
    "   - Entity sequences are set to exactly 1 token"
   ]
  },
  {
   "cell_type": "code",
   "execution_count": 29,
   "id": "2092f042",
   "metadata": {
    "execution": {
     "iopub.execute_input": "2025-03-19T04:41:22.251131Z",
     "iopub.status.busy": "2025-03-19T04:41:22.250723Z",
     "iopub.status.idle": "2025-03-19T04:41:22.258565Z",
     "shell.execute_reply": "2025-03-19T04:41:22.257377Z"
    },
    "papermill": {
     "duration": 0.019857,
     "end_time": "2025-03-19T04:41:22.260062",
     "exception": false,
     "start_time": "2025-03-19T04:41:22.240205",
     "status": "completed"
    },
    "tags": []
   },
   "outputs": [
    {
     "data": {
      "text/plain": [
       "array([[   0,    0,    0,    0,    0,    0,    0,    0,    0,    0,    0,\n",
       "           0,    0,    0,    0,    0,    0,    0,    0,    0,    0,    0,\n",
       "           0,    0,    0,    0,    0,    0,    0,    0,    0,    0,    0,\n",
       "           0,    0,    0,    0,    0,    0,    0,    0,    0,    0,    0,\n",
       "           0,    0,    0,    0,    0,    0,    0,    0, 1318, 2100,   29,\n",
       "        6586,  834,   61, 1117, 2847,  635, 2051, 3641,   19, 2978, 3870,\n",
       "        1689, 1117, 1667, 2348,   20,    3,  388,  965,  805],\n",
       "       [   0,    0,    0,    0,    0,    0,    0,    0,    0,    0,    0,\n",
       "           0,    0,    0,    0,    0,    0,    0,    0,    0,    0,    0,\n",
       "           0,    0,    0,    0,    0,    0,    0,    0,    0,    0,    0,\n",
       "           0,    0,    0,    0,    0,    0,    0,    0,    0,    0,    0,\n",
       "           0,    0,    0,    0,    0,    0,    0,    0,    0,    0,    0,\n",
       "           0,    0,    0,    0,  153,  498, 3183,  141,  141,  441,  430,\n",
       "         154,  208,   17, 2071,  128, 4028, 1503,  758,  589],\n",
       "       [   0,    0,    0,    0,    0,    0,    0,    0,    0,    0,    0,\n",
       "           0,    0,    0,    0,    0,    0,    0,    0,    0,    0,    0,\n",
       "           0,    0,    0,    0,    0,    0,    0,    0,    0,    0,    0,\n",
       "           0,    0,    0,    0,    0,    0,    0,    0,    0,    0,    0,\n",
       "           0,    0,    0,    0,    0,    0,    0,    0,    0,    0,    0,\n",
       "           0,    0,    0,    0,    0,    0,    0,    0,    0,    0,    0,\n",
       "           0,    0,    0,   72,  555, 3117,   23,  426,  560],\n",
       "       [   0,    0,    0,    0,    0,    0,    0,    0,    0,    0,    0,\n",
       "           0,    0,    0,    0,    0,    0,    0,    0,    0,    0,    0,\n",
       "           0,    0,    0,    0,    0,    0,    0,    0,    0,    0,    0,\n",
       "           0,    0,    0,    0,    0,    0,    0,    0,    0,    0,    0,\n",
       "           0,    0,    0,    0,    0,    0,    0,    0,    0,    0,    0,\n",
       "           0,    0,    0,    0,    0,    0,   64, 4179, 1196,  139,  114,\n",
       "         806, 6150,  186,  190, 8969,   30,   26,   22, 8970],\n",
       "       [   0,    0,    0,    0,    0,    0,    0,    0,    0,    0,    0,\n",
       "           0,    0,    0,    0,    0,    0,    0,    0,    0,    0,    0,\n",
       "           0,    0,    0,    0,    0,    0,    0,    0,    0,    0,    0,\n",
       "           0,    0,    0,    0,    0,    0,    0,    0,    0,    0,  585,\n",
       "        1608,  243,    4, 2101, 1824, 4180,  303, 1668, 4180, 2349,  792,\n",
       "        2711, 1299,  643,  301,  108, 1460,  238, 1567, 3043, 3044,  282,\n",
       "          65,   52, 7617,  124,    1, 7617,   30,   26,   22],\n",
       "       [   0,    0,    0,    0,    0,    0,    0,    0,    0,    0,    0,\n",
       "           0,    0,    0,    0,    0,    0,    0,    0,    0,    0,    0,\n",
       "           0,    0,    0,    0,    0,    0,    0,    0,    0,    0,    0,\n",
       "           0,    0,    0,    0,    0,    0,    0,    0,    0,    0,    0,\n",
       "           0,    0,    0,    0,    0,    0,    0,    0,    0,    0,    0,\n",
       "           0,    0,    0,    0,    0,    0,    0,    0,    0,    0,    0,\n",
       "         409,   36,   80,   95,  655,   28,  199,  121,    9],\n",
       "       [   0,    0,    0,    0,    0,    0,    0,    0,    0,    0,    0,\n",
       "           0,    0,    0,    0,    0,    0,    0,    0,    0,    0,    0,\n",
       "           0,    0,    0,    0,    0,    0,    0,    0,    0,    0,    0,\n",
       "           0,    0,    0,    0,    0,    0,    0,    0,    0,    0,    0,\n",
       "           0,    0,    0,    0,    0,    0,    0,    0,    0,    0,    0,\n",
       "           0,    0,    0,    0,    0,    0,    0, 4946,  189, 3184,  544,\n",
       "         221,  235, 1912,  399,   13,  186, 1043, 2909,  178],\n",
       "       [   0,    0,    0,    0,    0,    0,    0,    0,    0,    0,    0,\n",
       "           0,    0,    0,    0,    0,    0,    0,    0,    0,    0,    0,\n",
       "           0,    0,    0,    0,    0,    0,    0,    0,    0,    0,    0,\n",
       "           0,    0,    0,    0,    0,    0,    0,    0,    0,    0,    0,\n",
       "           0,    0,    0,    0,    0,    0,    0,    0,    0,    0,    0,\n",
       "           0,    0,    0,    0,    0,    0,    0,    0,    0,    0,    0,\n",
       "           0,    0,    0,    0,    0,   80,  295, 1941,  209],\n",
       "       [   0,    0,    0,    0,    0,    0,    0,    0,    0,    0,    0,\n",
       "           0,    0,    0,    0,    0,    0,    0,    0,    0,    0,    0,\n",
       "           0,    0,    0,    0,    0,    0,    0,    0,    0,    0,    0,\n",
       "           0,    0,    0,    0,    0,    0,    0,    0,    0,    0,    0,\n",
       "           0,    0,    0,    0,    0,    0,    0,    0,    0,    0,    0,\n",
       "           0,    0,    0,    0,    0,    0,    0,    0,    0,    0,    0,\n",
       "           0,    0,    0,    0,    0,    0, 2660, 3871, 4331],\n",
       "       [   0,    0,    0,    0,    0,    0,    0,    0,    0,    0,    0,\n",
       "           0,    0,    0,    0,    0,    0,    0,    0,    0,    0,    0,\n",
       "           0,    0,    0,    0,    0,    0,    0,    0,    0,    0,    0,\n",
       "           0,    0,    0,    0,    0,    0,    0,    0,    0,    0,    0,\n",
       "           0,    0,    0,    0,    0,    0,    0,  197,   48,  207,   95,\n",
       "        1669, 7093,  656,  422, 1236,    7,  900, 1825, 2241, 1891, 1016,\n",
       "         146,  165,    9, 4707, 1157, 6151,   37,  761, 4332]],\n",
       "      dtype=int32)"
      ]
     },
     "execution_count": 29,
     "metadata": {},
     "output_type": "execute_result"
    }
   ],
   "source": [
    "X_train_content[0:10]"
   ]
  },
  {
   "cell_type": "markdown",
   "id": "f09a683b",
   "metadata": {},
   "source": [
    "Preparing the data in the proper format for a dual-input model that will process both content and entity information separately"
   ]
  },
  {
   "cell_type": "markdown",
   "id": "d4f7aff7",
   "metadata": {},
   "source": [
    "This tokenization approach allows the model to process both the main text and the entity information as separate but complementary inputs."
   ]
  },
  {
   "cell_type": "markdown",
   "id": "326e8ffc",
   "metadata": {},
   "source": [
    "# train"
   ]
  },
  {
   "cell_type": "markdown",
   "id": "c571817b",
   "metadata": {},
   "source": [
    "### Process Description\n",
    "\n",
    "This section builds and trains a dual-input deep learning model for sentiment analysis. The process involves:"
   ]
  },
  {
   "cell_type": "markdown",
   "id": "498dee68",
   "metadata": {},
   "source": [
    "Creating a complex model architecture with two separate input branches:\n",
    "   - Content branch: Processes the main text through embedding, LSTM, and dense layers\n",
    "   - Entity branch: Processes the keyword through embedding and dense layers"
   ]
  },
  {
   "cell_type": "markdown",
   "id": "51c080fe",
   "metadata": {},
   "source": [
    "Combining the two branches using concatenation before the final classification layer\n",
    "\n",
    "Configuring the model with:\n",
    "   - Categorical cross-entropy loss function (appropriate for multi-class classification)\n",
    "   - Adam optimizer with a specific learning rate\n",
    "   - Accuracy as the evaluation metric\n",
    "\n",
    "Training the model using both content and entity inputs:\n",
    "   - Using mini-batches of 128 samples\n",
    "   - Training for multiple epochs (iterations over the data)\n",
    "   - Using early stopping to prevent The model's progress is monitored throughout training, showing gradual improvement in classification accuracy\n",
    "\n",
    "This dual-input approach leverages both the context from the full text and the specific entity information to achieve better sentiment classification performance."
   ]
  },
  {
   "cell_type": "code",
   "execution_count": 30,
   "id": "4a6c4f55",
   "metadata": {
    "execution": {
     "iopub.execute_input": "2025-03-19T04:41:22.281094Z",
     "iopub.status.busy": "2025-03-19T04:41:22.280730Z",
     "iopub.status.idle": "2025-03-19T04:52:24.343621Z",
     "shell.execute_reply": "2025-03-19T04:52:24.342360Z"
    },
    "papermill": {
     "duration": 662.075174,
     "end_time": "2025-03-19T04:52:24.345164",
     "exception": false,
     "start_time": "2025-03-19T04:41:22.269990",
     "status": "completed"
    },
    "tags": []
   },
   "outputs": [
    {
     "data": {
      "text/html": [
       "<pre style=\"white-space:pre;overflow-x:auto;line-height:normal;font-family:Menlo,'DejaVu Sans Mono',consolas,'Courier New',monospace\"><span style=\"font-weight: bold\">Model: \"functional\"</span>\n",
       "</pre>\n"
      ],
      "text/plain": [
       "\u001b[1mModel: \"functional\"\u001b[0m\n"
      ]
     },
     "metadata": {},
     "output_type": "display_data"
    },
    {
     "data": {
      "text/html": [
       "<pre style=\"white-space:pre;overflow-x:auto;line-height:normal;font-family:Menlo,'DejaVu Sans Mono',consolas,'Courier New',monospace\">┏━━━━━━━━━━━━━━━━━━━━━┳━━━━━━━━━━━━━━━━━━━┳━━━━━━━━━━━━┳━━━━━━━━━━━━━━━━━━━┓\n",
       "┃<span style=\"font-weight: bold\"> Layer (type)        </span>┃<span style=\"font-weight: bold\"> Output Shape      </span>┃<span style=\"font-weight: bold\">    Param # </span>┃<span style=\"font-weight: bold\"> Connected to      </span>┃\n",
       "┡━━━━━━━━━━━━━━━━━━━━━╇━━━━━━━━━━━━━━━━━━━╇━━━━━━━━━━━━╇━━━━━━━━━━━━━━━━━━━┩\n",
       "│ content_input       │ (<span style=\"color: #00d7ff; text-decoration-color: #00d7ff\">None</span>, <span style=\"color: #00af00; text-decoration-color: #00af00\">75</span>)        │          <span style=\"color: #00af00; text-decoration-color: #00af00\">0</span> │ -                 │\n",
       "│ (<span style=\"color: #0087ff; text-decoration-color: #0087ff\">InputLayer</span>)        │                   │            │                   │\n",
       "├─────────────────────┼───────────────────┼────────────┼───────────────────┤\n",
       "│ entity_input        │ (<span style=\"color: #00d7ff; text-decoration-color: #00d7ff\">None</span>, <span style=\"color: #00af00; text-decoration-color: #00af00\">1</span>)         │          <span style=\"color: #00af00; text-decoration-color: #00af00\">0</span> │ -                 │\n",
       "│ (<span style=\"color: #0087ff; text-decoration-color: #0087ff\">InputLayer</span>)        │                   │            │                   │\n",
       "├─────────────────────┼───────────────────┼────────────┼───────────────────┤\n",
       "│ content_embedding   │ (<span style=\"color: #00d7ff; text-decoration-color: #00d7ff\">None</span>, <span style=\"color: #00af00; text-decoration-color: #00af00\">75</span>, <span style=\"color: #00af00; text-decoration-color: #00af00\">100</span>)   │  <span style=\"color: #00af00; text-decoration-color: #00af00\">1,000,000</span> │ content_input[<span style=\"color: #00af00; text-decoration-color: #00af00\">0</span>]… │\n",
       "│ (<span style=\"color: #0087ff; text-decoration-color: #0087ff\">Embedding</span>)         │                   │            │                   │\n",
       "├─────────────────────┼───────────────────┼────────────┼───────────────────┤\n",
       "│ entity_embedding    │ (<span style=\"color: #00d7ff; text-decoration-color: #00d7ff\">None</span>, <span style=\"color: #00af00; text-decoration-color: #00af00\">1</span>, <span style=\"color: #00af00; text-decoration-color: #00af00\">32</span>)     │      <span style=\"color: #00af00; text-decoration-color: #00af00\">1,248</span> │ entity_input[<span style=\"color: #00af00; text-decoration-color: #00af00\">0</span>][<span style=\"color: #00af00; text-decoration-color: #00af00\">…</span> │\n",
       "│ (<span style=\"color: #0087ff; text-decoration-color: #0087ff\">Embedding</span>)         │                   │            │                   │\n",
       "├─────────────────────┼───────────────────┼────────────┼───────────────────┤\n",
       "│ content_lstm (<span style=\"color: #0087ff; text-decoration-color: #0087ff\">LSTM</span>) │ (<span style=\"color: #00d7ff; text-decoration-color: #00d7ff\">None</span>, <span style=\"color: #00af00; text-decoration-color: #00af00\">64</span>)        │     <span style=\"color: #00af00; text-decoration-color: #00af00\">42,240</span> │ content_embeddin… │\n",
       "├─────────────────────┼───────────────────┼────────────┼───────────────────┤\n",
       "│ entity_flatten      │ (<span style=\"color: #00d7ff; text-decoration-color: #00d7ff\">None</span>, <span style=\"color: #00af00; text-decoration-color: #00af00\">32</span>)        │          <span style=\"color: #00af00; text-decoration-color: #00af00\">0</span> │ entity_embedding… │\n",
       "│ (<span style=\"color: #0087ff; text-decoration-color: #0087ff\">Flatten</span>)           │                   │            │                   │\n",
       "├─────────────────────┼───────────────────┼────────────┼───────────────────┤\n",
       "│ combined_features   │ (<span style=\"color: #00d7ff; text-decoration-color: #00d7ff\">None</span>, <span style=\"color: #00af00; text-decoration-color: #00af00\">96</span>)        │          <span style=\"color: #00af00; text-decoration-color: #00af00\">0</span> │ content_lstm[<span style=\"color: #00af00; text-decoration-color: #00af00\">0</span>][<span style=\"color: #00af00; text-decoration-color: #00af00\">…</span> │\n",
       "│ (<span style=\"color: #0087ff; text-decoration-color: #0087ff\">Concatenate</span>)       │                   │            │ entity_flatten[<span style=\"color: #00af00; text-decoration-color: #00af00\">0</span>… │\n",
       "├─────────────────────┼───────────────────┼────────────┼───────────────────┤\n",
       "│ dropout (<span style=\"color: #0087ff; text-decoration-color: #0087ff\">Dropout</span>)   │ (<span style=\"color: #00d7ff; text-decoration-color: #00d7ff\">None</span>, <span style=\"color: #00af00; text-decoration-color: #00af00\">96</span>)        │          <span style=\"color: #00af00; text-decoration-color: #00af00\">0</span> │ combined_feature… │\n",
       "├─────────────────────┼───────────────────┼────────────┼───────────────────┤\n",
       "│ dense (<span style=\"color: #0087ff; text-decoration-color: #0087ff\">Dense</span>)       │ (<span style=\"color: #00d7ff; text-decoration-color: #00d7ff\">None</span>, <span style=\"color: #00af00; text-decoration-color: #00af00\">64</span>)        │      <span style=\"color: #00af00; text-decoration-color: #00af00\">6,208</span> │ dropout[<span style=\"color: #00af00; text-decoration-color: #00af00\">0</span>][<span style=\"color: #00af00; text-decoration-color: #00af00\">0</span>]     │\n",
       "├─────────────────────┼───────────────────┼────────────┼───────────────────┤\n",
       "│ dense_1 (<span style=\"color: #0087ff; text-decoration-color: #0087ff\">Dense</span>)     │ (<span style=\"color: #00d7ff; text-decoration-color: #00d7ff\">None</span>, <span style=\"color: #00af00; text-decoration-color: #00af00\">4</span>)         │        <span style=\"color: #00af00; text-decoration-color: #00af00\">260</span> │ dense[<span style=\"color: #00af00; text-decoration-color: #00af00\">0</span>][<span style=\"color: #00af00; text-decoration-color: #00af00\">0</span>]       │\n",
       "└─────────────────────┴───────────────────┴────────────┴───────────────────┘\n",
       "</pre>\n"
      ],
      "text/plain": [
       "┏━━━━━━━━━━━━━━━━━━━━━┳━━━━━━━━━━━━━━━━━━━┳━━━━━━━━━━━━┳━━━━━━━━━━━━━━━━━━━┓\n",
       "┃\u001b[1m \u001b[0m\u001b[1mLayer (type)       \u001b[0m\u001b[1m \u001b[0m┃\u001b[1m \u001b[0m\u001b[1mOutput Shape     \u001b[0m\u001b[1m \u001b[0m┃\u001b[1m \u001b[0m\u001b[1m   Param #\u001b[0m\u001b[1m \u001b[0m┃\u001b[1m \u001b[0m\u001b[1mConnected to     \u001b[0m\u001b[1m \u001b[0m┃\n",
       "┡━━━━━━━━━━━━━━━━━━━━━╇━━━━━━━━━━━━━━━━━━━╇━━━━━━━━━━━━╇━━━━━━━━━━━━━━━━━━━┩\n",
       "│ content_input       │ (\u001b[38;5;45mNone\u001b[0m, \u001b[38;5;34m75\u001b[0m)        │          \u001b[38;5;34m0\u001b[0m │ -                 │\n",
       "│ (\u001b[38;5;33mInputLayer\u001b[0m)        │                   │            │                   │\n",
       "├─────────────────────┼───────────────────┼────────────┼───────────────────┤\n",
       "│ entity_input        │ (\u001b[38;5;45mNone\u001b[0m, \u001b[38;5;34m1\u001b[0m)         │          \u001b[38;5;34m0\u001b[0m │ -                 │\n",
       "│ (\u001b[38;5;33mInputLayer\u001b[0m)        │                   │            │                   │\n",
       "├─────────────────────┼───────────────────┼────────────┼───────────────────┤\n",
       "│ content_embedding   │ (\u001b[38;5;45mNone\u001b[0m, \u001b[38;5;34m75\u001b[0m, \u001b[38;5;34m100\u001b[0m)   │  \u001b[38;5;34m1,000,000\u001b[0m │ content_input[\u001b[38;5;34m0\u001b[0m]… │\n",
       "│ (\u001b[38;5;33mEmbedding\u001b[0m)         │                   │            │                   │\n",
       "├─────────────────────┼───────────────────┼────────────┼───────────────────┤\n",
       "│ entity_embedding    │ (\u001b[38;5;45mNone\u001b[0m, \u001b[38;5;34m1\u001b[0m, \u001b[38;5;34m32\u001b[0m)     │      \u001b[38;5;34m1,248\u001b[0m │ entity_input[\u001b[38;5;34m0\u001b[0m][\u001b[38;5;34m…\u001b[0m │\n",
       "│ (\u001b[38;5;33mEmbedding\u001b[0m)         │                   │            │                   │\n",
       "├─────────────────────┼───────────────────┼────────────┼───────────────────┤\n",
       "│ content_lstm (\u001b[38;5;33mLSTM\u001b[0m) │ (\u001b[38;5;45mNone\u001b[0m, \u001b[38;5;34m64\u001b[0m)        │     \u001b[38;5;34m42,240\u001b[0m │ content_embeddin… │\n",
       "├─────────────────────┼───────────────────┼────────────┼───────────────────┤\n",
       "│ entity_flatten      │ (\u001b[38;5;45mNone\u001b[0m, \u001b[38;5;34m32\u001b[0m)        │          \u001b[38;5;34m0\u001b[0m │ entity_embedding… │\n",
       "│ (\u001b[38;5;33mFlatten\u001b[0m)           │                   │            │                   │\n",
       "├─────────────────────┼───────────────────┼────────────┼───────────────────┤\n",
       "│ combined_features   │ (\u001b[38;5;45mNone\u001b[0m, \u001b[38;5;34m96\u001b[0m)        │          \u001b[38;5;34m0\u001b[0m │ content_lstm[\u001b[38;5;34m0\u001b[0m][\u001b[38;5;34m…\u001b[0m │\n",
       "│ (\u001b[38;5;33mConcatenate\u001b[0m)       │                   │            │ entity_flatten[\u001b[38;5;34m0\u001b[0m… │\n",
       "├─────────────────────┼───────────────────┼────────────┼───────────────────┤\n",
       "│ dropout (\u001b[38;5;33mDropout\u001b[0m)   │ (\u001b[38;5;45mNone\u001b[0m, \u001b[38;5;34m96\u001b[0m)        │          \u001b[38;5;34m0\u001b[0m │ combined_feature… │\n",
       "├─────────────────────┼───────────────────┼────────────┼───────────────────┤\n",
       "│ dense (\u001b[38;5;33mDense\u001b[0m)       │ (\u001b[38;5;45mNone\u001b[0m, \u001b[38;5;34m64\u001b[0m)        │      \u001b[38;5;34m6,208\u001b[0m │ dropout[\u001b[38;5;34m0\u001b[0m][\u001b[38;5;34m0\u001b[0m]     │\n",
       "├─────────────────────┼───────────────────┼────────────┼───────────────────┤\n",
       "│ dense_1 (\u001b[38;5;33mDense\u001b[0m)     │ (\u001b[38;5;45mNone\u001b[0m, \u001b[38;5;34m4\u001b[0m)         │        \u001b[38;5;34m260\u001b[0m │ dense[\u001b[38;5;34m0\u001b[0m][\u001b[38;5;34m0\u001b[0m]       │\n",
       "└─────────────────────┴───────────────────┴────────────┴───────────────────┘\n"
      ]
     },
     "metadata": {},
     "output_type": "display_data"
    },
    {
     "data": {
      "text/html": [
       "<pre style=\"white-space:pre;overflow-x:auto;line-height:normal;font-family:Menlo,'DejaVu Sans Mono',consolas,'Courier New',monospace\"><span style=\"font-weight: bold\"> Total params: </span><span style=\"color: #00af00; text-decoration-color: #00af00\">1,049,956</span> (4.01 MB)\n",
       "</pre>\n"
      ],
      "text/plain": [
       "\u001b[1m Total params: \u001b[0m\u001b[38;5;34m1,049,956\u001b[0m (4.01 MB)\n"
      ]
     },
     "metadata": {},
     "output_type": "display_data"
    },
    {
     "data": {
      "text/html": [
       "<pre style=\"white-space:pre;overflow-x:auto;line-height:normal;font-family:Menlo,'DejaVu Sans Mono',consolas,'Courier New',monospace\"><span style=\"font-weight: bold\"> Trainable params: </span><span style=\"color: #00af00; text-decoration-color: #00af00\">1,049,956</span> (4.01 MB)\n",
       "</pre>\n"
      ],
      "text/plain": [
       "\u001b[1m Trainable params: \u001b[0m\u001b[38;5;34m1,049,956\u001b[0m (4.01 MB)\n"
      ]
     },
     "metadata": {},
     "output_type": "display_data"
    },
    {
     "data": {
      "text/html": [
       "<pre style=\"white-space:pre;overflow-x:auto;line-height:normal;font-family:Menlo,'DejaVu Sans Mono',consolas,'Courier New',monospace\"><span style=\"font-weight: bold\"> Non-trainable params: </span><span style=\"color: #00af00; text-decoration-color: #00af00\">0</span> (0.00 B)\n",
       "</pre>\n"
      ],
      "text/plain": [
       "\u001b[1m Non-trainable params: \u001b[0m\u001b[38;5;34m0\u001b[0m (0.00 B)\n"
      ]
     },
     "metadata": {},
     "output_type": "display_data"
    },
    {
     "name": "stdout",
     "output_type": "stream",
     "text": [
      "Epoch 1/20\n",
      "\u001b[1m232/232\u001b[0m \u001b[32m━━━━━━━━━━━━━━━━━━━━\u001b[0m\u001b[37m\u001b[0m \u001b[1m26s\u001b[0m 108ms/step - accuracy: 0.4774 - loss: 1.1725 - val_accuracy: 0.7284 - val_loss: 0.7192\n",
      "Epoch 2/20\n",
      "\u001b[1m232/232\u001b[0m \u001b[32m━━━━━━━━━━━━━━━━━━━━\u001b[0m\u001b[37m\u001b[0m \u001b[1m26s\u001b[0m 113ms/step - accuracy: 0.7892 - loss: 0.5743 - val_accuracy: 0.7844 - val_loss: 0.5776\n",
      "Epoch 3/20\n",
      "\u001b[1m232/232\u001b[0m \u001b[32m━━━━━━━━━━━━━━━━━━━━\u001b[0m\u001b[37m\u001b[0m \u001b[1m31s\u001b[0m 132ms/step - accuracy: 0.8546 - loss: 0.4022 - val_accuracy: 0.8155 - val_loss: 0.5093\n",
      "Epoch 4/20\n",
      "\u001b[1m232/232\u001b[0m \u001b[32m━━━━━━━━━━━━━━━━━━━━\u001b[0m\u001b[37m\u001b[0m \u001b[1m32s\u001b[0m 136ms/step - accuracy: 0.8877 - loss: 0.3114 - val_accuracy: 0.8324 - val_loss: 0.4967\n",
      "Epoch 5/20\n",
      "\u001b[1m232/232\u001b[0m \u001b[32m━━━━━━━━━━━━━━━━━━━━\u001b[0m\u001b[37m\u001b[0m \u001b[1m32s\u001b[0m 140ms/step - accuracy: 0.9095 - loss: 0.2514 - val_accuracy: 0.8424 - val_loss: 0.4765\n",
      "Epoch 6/20\n",
      "\u001b[1m232/232\u001b[0m \u001b[32m━━━━━━━━━━━━━━━━━━━━\u001b[0m\u001b[37m\u001b[0m \u001b[1m29s\u001b[0m 127ms/step - accuracy: 0.9177 - loss: 0.2242 - val_accuracy: 0.8459 - val_loss: 0.4903\n",
      "Epoch 7/20\n",
      "\u001b[1m232/232\u001b[0m \u001b[32m━━━━━━━━━━━━━━━━━━━━\u001b[0m\u001b[37m\u001b[0m \u001b[1m33s\u001b[0m 142ms/step - accuracy: 0.9284 - loss: 0.1953 - val_accuracy: 0.8492 - val_loss: 0.4891\n",
      "Epoch 8/20\n",
      "\u001b[1m232/232\u001b[0m \u001b[32m━━━━━━━━━━━━━━━━━━━━\u001b[0m\u001b[37m\u001b[0m \u001b[1m33s\u001b[0m 144ms/step - accuracy: 0.9345 - loss: 0.1795 - val_accuracy: 0.8472 - val_loss: 0.5309\n",
      "Epoch 9/20\n",
      "\u001b[1m232/232\u001b[0m \u001b[32m━━━━━━━━━━━━━━━━━━━━\u001b[0m\u001b[37m\u001b[0m \u001b[1m33s\u001b[0m 141ms/step - accuracy: 0.9385 - loss: 0.1669 - val_accuracy: 0.8512 - val_loss: 0.5412\n",
      "Epoch 10/20\n",
      "\u001b[1m232/232\u001b[0m \u001b[32m━━━━━━━━━━━━━━━━━━━━\u001b[0m\u001b[37m\u001b[0m \u001b[1m32s\u001b[0m 136ms/step - accuracy: 0.9399 - loss: 0.1598 - val_accuracy: 0.8543 - val_loss: 0.5575\n",
      "Epoch 11/20\n",
      "\u001b[1m232/232\u001b[0m \u001b[32m━━━━━━━━━━━━━━━━━━━━\u001b[0m\u001b[37m\u001b[0m \u001b[1m32s\u001b[0m 136ms/step - accuracy: 0.9445 - loss: 0.1486 - val_accuracy: 0.8537 - val_loss: 0.5564\n",
      "Epoch 12/20\n",
      "\u001b[1m232/232\u001b[0m \u001b[32m━━━━━━━━━━━━━━━━━━━━\u001b[0m\u001b[37m\u001b[0m \u001b[1m33s\u001b[0m 141ms/step - accuracy: 0.9446 - loss: 0.1462 - val_accuracy: 0.8535 - val_loss: 0.5801\n",
      "Epoch 13/20\n",
      "\u001b[1m232/232\u001b[0m \u001b[32m━━━━━━━━━━━━━━━━━━━━\u001b[0m\u001b[37m\u001b[0m \u001b[1m32s\u001b[0m 138ms/step - accuracy: 0.9492 - loss: 0.1349 - val_accuracy: 0.8527 - val_loss: 0.6257\n",
      "Epoch 14/20\n",
      "\u001b[1m232/232\u001b[0m \u001b[32m━━━━━━━━━━━━━━━━━━━━\u001b[0m\u001b[37m\u001b[0m \u001b[1m32s\u001b[0m 139ms/step - accuracy: 0.9506 - loss: 0.1270 - val_accuracy: 0.8563 - val_loss: 0.6381\n",
      "Epoch 15/20\n",
      "\u001b[1m232/232\u001b[0m \u001b[32m━━━━━━━━━━━━━━━━━━━━\u001b[0m\u001b[37m\u001b[0m \u001b[1m30s\u001b[0m 131ms/step - accuracy: 0.9525 - loss: 0.1247 - val_accuracy: 0.8551 - val_loss: 0.6021\n",
      "Epoch 16/20\n",
      "\u001b[1m232/232\u001b[0m \u001b[32m━━━━━━━━━━━━━━━━━━━━\u001b[0m\u001b[37m\u001b[0m \u001b[1m32s\u001b[0m 139ms/step - accuracy: 0.9531 - loss: 0.1214 - val_accuracy: 0.8588 - val_loss: 0.6423\n",
      "Epoch 17/20\n",
      "\u001b[1m232/232\u001b[0m \u001b[32m━━━━━━━━━━━━━━━━━━━━\u001b[0m\u001b[37m\u001b[0m \u001b[1m34s\u001b[0m 147ms/step - accuracy: 0.9575 - loss: 0.1105 - val_accuracy: 0.8586 - val_loss: 0.6683\n",
      "Epoch 18/20\n",
      "\u001b[1m232/232\u001b[0m \u001b[32m━━━━━━━━━━━━━━━━━━━━\u001b[0m\u001b[37m\u001b[0m \u001b[1m33s\u001b[0m 142ms/step - accuracy: 0.9567 - loss: 0.1093 - val_accuracy: 0.8577 - val_loss: 0.6650\n",
      "Epoch 19/20\n",
      "\u001b[1m232/232\u001b[0m \u001b[32m━━━━━━━━━━━━━━━━━━━━\u001b[0m\u001b[37m\u001b[0m \u001b[1m32s\u001b[0m 138ms/step - accuracy: 0.9586 - loss: 0.1037 - val_accuracy: 0.8571 - val_loss: 0.6921\n",
      "Epoch 20/20\n",
      "\u001b[1m232/232\u001b[0m \u001b[32m━━━━━━━━━━━━━━━━━━━━\u001b[0m\u001b[37m\u001b[0m \u001b[1m32s\u001b[0m 139ms/step - accuracy: 0.9583 - loss: 0.1031 - val_accuracy: 0.8584 - val_loss: 0.6916\n",
      "\u001b[1m32/32\u001b[0m \u001b[32m━━━━━━━━━━━━━━━━━━━━\u001b[0m\u001b[37m\u001b[0m \u001b[1m0s\u001b[0m 7ms/step - accuracy: 0.9352 - loss: 0.5123\n",
      "Test accuracy: 0.9339\n"
     ]
    }
   ],
   "source": [
    "\n",
    "content_input = Input(shape=(maxlen_content,), name='content_input')\n",
    "content_embedding = Embedding(input_dim=content_vocab_size, output_dim=embedding_dim, name='content_embedding')(content_input)\n",
    "content_lstm = LSTM(units=64, name='content_lstm')(content_embedding)\n",
    "\n",
    "\n",
    "entity_input = Input(shape=(maxlen_entity,), name='entity_input')\n",
    "entity_embedding = Embedding(input_dim=entity_vocab_size, output_dim=32, name='entity_embedding')(entity_input)\n",
    "entity_flat = Flatten(name='entity_flatten')(entity_embedding)\n",
    "\n",
    "\n",
    "combined = Concatenate(name='combined_features')([content_lstm, entity_flat])\n",
    "dropout = Dropout(0.2)(combined)\n",
    "dense = Dense(64, activation='relu')(dropout)\n",
    "\n",
    "\n",
    "num_classes = len(np.unique(y_train_encoded))\n",
    "output = Dense(num_classes, activation='softmax')(dense)\n",
    "loss = 'sparse_categorical_crossentropy'\n",
    "\n",
    "\n",
    "model = Model(inputs=[content_input, entity_input], outputs=output)\n",
    "\n",
    "\n",
    "model.compile(loss=loss, \n",
    "              optimizer='adam', \n",
    "              metrics=['accuracy'])\n",
    "\n",
    "\n",
    "model.summary()\n",
    "\n",
    "\n",
    "history = model.fit(\n",
    "    [X_train_content, X_train_entity], \n",
    "    y_train_encoded,\n",
    "    validation_data=([X_val_content, X_val_entity], y_val_encoded),\n",
    "    epochs=epochs,\n",
    "    batch_size=batch_size,\n",
    "    verbose=1\n",
    ")\n",
    "\n",
    "\n",
    "test_loss, test_accuracy = model.evaluate([X_test_content, X_test_entity], y_test_encoded)\n",
    "print(f\"Test accuracy: {test_accuracy:.4f}\")"
   ]
  },
  {
   "cell_type": "code",
   "execution_count": 28,
   "id": "29155f5e",
   "metadata": {
    "execution": {
     "iopub.execute_input": "2025-03-19T04:52:24.900848Z",
     "iopub.status.busy": "2025-03-19T04:52:24.900480Z",
     "iopub.status.idle": "2025-03-19T04:52:25.508401Z",
     "shell.execute_reply": "2025-03-19T04:52:25.507137Z"
    },
    "papermill": {
     "duration": 0.893767,
     "end_time": "2025-03-19T04:52:25.514055",
     "exception": false,
     "start_time": "2025-03-19T04:52:24.620288",
     "status": "completed"
    },
    "tags": []
   },
   "outputs": [
    {
     "data": {
      "image/png": "[encoded data removed]",
      "text/plain": [
       "<IPython.core.display.Image object>"
      ]
     },
     "execution_count": 28,
     "metadata": {},
     "output_type": "execute_result"
    }
   ],
   "source": [
    "from tensorflow.keras.utils import plot_model\n",
    "\n",
    "\n",
    "plot_model(model, to_file='model.png', show_shapes=True, show_layer_names=True)"
   ]
  },
  {
   "cell_type": "markdown",
   "id": "f155f3d2",
   "metadata": {},
   "source": [
    "# evaluation"
   ]
  },
  {
   "cell_type": "markdown",
   "id": "8fc52a0a",
   "metadata": {},
   "source": [
    "### Process Description\n",
    "\n",
    "This section assesses the performance of the trained sentiment analysis model. The evaluation process includes:"
   ]
  },
  {
   "cell_type": "markdown",
   "id": "1bad210e",
   "metadata": {},
   "source": [
    "Generating predictions on the test dataset using the trained model\n",
    "\n",
    "Converting the probability outputs to class predictions by taking the argmax\n",
    "\n",
    "Calculating key performance metrics:\n",
    "   - Overall accuracy on the test set\n",
    "   - Precision, recall, and F1-score for each sentiment class\n",
    "   - Confusion matrix to visualize prediction patterns\n",
    "\n",
    "Creating visualizations of the model performance:\n",
    "   - Confusion matrix heatmap showing the distribution of predictions vs. actual labels\n",
    "   - Classification report detailing per-class performance\n",
    "\n",
    "Analyzing where the model performs well and where it struggles:\n",
    "   - Identifying which sentiment classes are easier or harder to predict\n",
    "   - Understanding potential patterns in misclassifications\n",
    "\n",
    "The evaluation shows the model achieves approximately 93% accuracy on the test set, demonstrating strong performance in distinguishing between different sentiment classes in the Twitter data."
   ]
  },
  {
   "cell_type": "code",
   "execution_count": 29,
   "id": "f1130cce",
   "metadata": {
    "execution": {
     "iopub.execute_input": "2025-03-19T04:52:26.147668Z",
     "iopub.status.busy": "2025-03-19T04:52:26.147262Z",
     "iopub.status.idle": "2025-03-19T04:52:27.542889Z",
     "shell.execute_reply": "2025-03-19T04:52:27.541722Z"
    },
    "papermill": {
     "duration": 1.688547,
     "end_time": "2025-03-19T04:52:27.544476",
     "exception": false,
     "start_time": "2025-03-19T04:52:25.855929",
     "status": "completed"
    },
    "tags": []
   },
   "outputs": [
    {
     "name": "stdout",
     "output_type": "stream",
     "text": [
      "\u001b[1m32/32\u001b[0m \u001b[32m━━━━━━━━━━━━━━━━━━━━\u001b[0m\u001b[37m\u001b[0m \u001b[1m1s\u001b[0m 19ms/step\n",
      "Classification Report:\n",
      "              precision    recall  f1-score   support\n",
      "\n",
      "  Irrelevant       0.92      0.91      0.92       171\n",
      "    Negative       0.94      0.94      0.94       266\n",
      "     Neutral       0.93      0.92      0.92       285\n",
      "    Positive       0.93      0.94      0.93       277\n",
      "\n",
      "    accuracy                           0.93       999\n",
      "   macro avg       0.93      0.93      0.93       999\n",
      "weighted avg       0.93      0.93      0.93       999\n",
      "\n",
      "Overall Accuracy: 0.9299\n"
     ]
    }
   ],
   "source": [
    "import numpy as np\n",
    "from sklearn.metrics import confusion_matrix, classification_report\n",
    "import matplotlib.pyplot as plt\n",
    "import seaborn as sns\n",
    "\n",
    "\n",
    "predictions = model.predict([X_test_content, X_test_entity])\n",
    "\n",
    "\n",
    "predicted_classes = np.argmax(predictions, axis=1)\n",
    "\n",
    "print(\"Classification Report:\")\n",
    "print(classification_report(y_test_encoded, predicted_classes, \n",
    "                           target_names=label_encoder.classes_))\n",
    "\n",
    "accuracy = np.sum(predicted_classes == y_test_encoded) / len(y_test_encoded)\n",
    "print(f\"Overall Accuracy: {accuracy:.4f}\")"
   ]
  }
 ],
 "metadata": {
  "kaggle": {
   "accelerator": "none",
   "dataSources": [
    {
     "datasetId": 1520310,
     "sourceId": 2510329,
     "sourceType": "datasetVersion"
    }
   ],
   "dockerImageVersionId": 30918,
   "isGpuEnabled": false,
   "isInternetEnabled": true,
   "language": "python",
   "sourceType": "notebook"
  },
  "kernelspec": {
   "display_name": "venv",
   "language": "python",
   "name": "python3"
  },
  "language_info": {
   "codemirror_mode": {
    "name": "ipython",
    "version": 3
   },
   "file_extension": ".py",
   "mimetype": "text/x-python",
   "name": "python",
   "nbconvert_exporter": "python",
   "pygments_lexer": "ipython3",
   "version": "3.10.16"
  },
  "papermill": {
   "default_parameters": {},
   "duration": 694.926546,
   "end_time": "2025-03-19T04:52:29.756512",
   "environment_variables": {},
   "exception": null,
   "input_path": "__notebook__.ipynb",
   "output_path": "__notebook__.ipynb",
   "parameters": {},
   "start_time": "2025-03-19T04:40:54.829966",
   "version": "2.6.0"
  }
 },
 "nbformat": 4,
 "nbformat_minor": 5
}
